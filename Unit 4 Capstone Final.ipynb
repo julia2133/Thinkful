{
 "cells": [
  {
   "cell_type": "markdown",
   "metadata": {},
   "source": [
    "## Can an animal's adoption rate be predicted by its description provided in Petfinder.com?"
   ]
  },
  {
   "cell_type": "code",
   "execution_count": 1,
   "metadata": {},
   "outputs": [],
   "source": [
    "%matplotlib inline\n",
    "import numpy as np\n",
    "import pandas as pd\n",
    "import scipy\n",
    "import sklearn\n",
    "import spacy\n",
    "import matplotlib.pyplot as plt\n",
    "import seaborn as sns\n",
    "import re\n",
    "from nltk.corpus import stopwords\n",
    "from collections import Counter\n",
    "import nltk\n",
    "from sklearn.feature_extraction.text import CountVectorizer\n",
    "from sklearn.feature_extraction.text import TfidfVectorizer\n",
    "from sklearn.preprocessing import StandardScaler\n",
    "from sklearn.model_selection import train_test_split\n",
    "from sklearn.metrics import confusion_matrix\n",
    "from sklearn.linear_model import LogisticRegression\n",
    "from sklearn import ensemble \n",
    "from sklearn.svm import LinearSVC\n",
    "from sklearn.decomposition import TruncatedSVD\n",
    "from sklearn.pipeline import make_pipeline\n",
    "from sklearn.preprocessing import Normalizer\n",
    "from sklearn.decomposition import LatentDirichletAllocation\n",
    "from sklearn.decomposition import NMF\n",
    "from sklearn.cluster import KMeans\n",
    "from sklearn.decomposition import PCA\n",
    "\n",
    "\n",
    "nlp = spacy.load('en')\n"
   ]
  },
  {
   "cell_type": "code",
   "execution_count": 4,
   "metadata": {},
   "outputs": [],
   "source": [
    "import nltk\n",
    "from nltk.tokenize import sent_tokenize, word_tokenize\n",
    "from nltk.stem import WordNetLemmatizer, PorterStemmer"
   ]
  },
  {
   "cell_type": "code",
   "execution_count": 3,
   "metadata": {},
   "outputs": [
    {
     "data": {
      "text/html": [
       "<div>\n",
       "<style scoped>\n",
       "    .dataframe tbody tr th:only-of-type {\n",
       "        vertical-align: middle;\n",
       "    }\n",
       "\n",
       "    .dataframe tbody tr th {\n",
       "        vertical-align: top;\n",
       "    }\n",
       "\n",
       "    .dataframe thead th {\n",
       "        text-align: right;\n",
       "    }\n",
       "</style>\n",
       "<table border=\"1\" class=\"dataframe\">\n",
       "  <thead>\n",
       "    <tr style=\"text-align: right;\">\n",
       "      <th></th>\n",
       "      <th>Description</th>\n",
       "    </tr>\n",
       "    <tr>\n",
       "      <th>AdoptionSpeed</th>\n",
       "      <th></th>\n",
       "    </tr>\n",
       "  </thead>\n",
       "  <tbody>\n",
       "    <tr>\n",
       "      <th>0</th>\n",
       "      <td>410</td>\n",
       "    </tr>\n",
       "    <tr>\n",
       "      <th>1</th>\n",
       "      <td>3088</td>\n",
       "    </tr>\n",
       "    <tr>\n",
       "      <th>2</th>\n",
       "      <td>4032</td>\n",
       "    </tr>\n",
       "    <tr>\n",
       "      <th>3</th>\n",
       "      <td>3258</td>\n",
       "    </tr>\n",
       "    <tr>\n",
       "      <th>4</th>\n",
       "      <td>4193</td>\n",
       "    </tr>\n",
       "  </tbody>\n",
       "</table>\n",
       "</div>"
      ],
      "text/plain": [
       "               Description\n",
       "AdoptionSpeed             \n",
       "0                      410\n",
       "1                     3088\n",
       "2                     4032\n",
       "3                     3258\n",
       "4                     4193"
      ]
     },
     "execution_count": 3,
     "metadata": {},
     "output_type": "execute_result"
    }
   ],
   "source": [
    "# Read in files\n",
    "df_all = pd.read_csv(r'C:\\Users\\julia\\Dropbox\\Data Science 2\\Petfinder\\train.csv')\n",
    "df_text=df_all[['AdoptionSpeed','Description']]\n",
    "df_text=df_text.dropna()\n",
    "df_text.groupby('AdoptionSpeed').count()"
   ]
  },
  {
   "cell_type": "code",
   "execution_count": 5,
   "metadata": {},
   "outputs": [
    {
     "data": {
      "text/html": [
       "<div>\n",
       "<style scoped>\n",
       "    .dataframe tbody tr th:only-of-type {\n",
       "        vertical-align: middle;\n",
       "    }\n",
       "\n",
       "    .dataframe tbody tr th {\n",
       "        vertical-align: top;\n",
       "    }\n",
       "\n",
       "    .dataframe thead th {\n",
       "        text-align: right;\n",
       "    }\n",
       "</style>\n",
       "<table border=\"1\" class=\"dataframe\">\n",
       "  <thead>\n",
       "    <tr style=\"text-align: right;\">\n",
       "      <th></th>\n",
       "      <th>Description</th>\n",
       "    </tr>\n",
       "    <tr>\n",
       "      <th>AdoptionSpeed</th>\n",
       "      <th></th>\n",
       "    </tr>\n",
       "  </thead>\n",
       "  <tbody>\n",
       "    <tr>\n",
       "      <th>1</th>\n",
       "      <td>3498</td>\n",
       "    </tr>\n",
       "    <tr>\n",
       "      <th>2</th>\n",
       "      <td>4032</td>\n",
       "    </tr>\n",
       "    <tr>\n",
       "      <th>3</th>\n",
       "      <td>3258</td>\n",
       "    </tr>\n",
       "    <tr>\n",
       "      <th>4</th>\n",
       "      <td>4193</td>\n",
       "    </tr>\n",
       "  </tbody>\n",
       "</table>\n",
       "</div>"
      ],
      "text/plain": [
       "               Description\n",
       "AdoptionSpeed             \n",
       "1                     3498\n",
       "2                     4032\n",
       "3                     3258\n",
       "4                     4193"
      ]
     },
     "execution_count": 5,
     "metadata": {},
     "output_type": "execute_result"
    }
   ],
   "source": [
    "# Combine adoption speeds 0 and 1 to balance classes\n",
    "df_text['AdoptionSpeed'].replace(0,1,inplace=True)\n",
    "df_text.groupby('AdoptionSpeed').count()"
   ]
  },
  {
   "cell_type": "code",
   "execution_count": 6,
   "metadata": {},
   "outputs": [
    {
     "data": {
      "text/plain": [
       "(14981, 24)"
      ]
     },
     "execution_count": 6,
     "metadata": {},
     "output_type": "execute_result"
    }
   ],
   "source": [
    "# Drop animals without descriptions\n",
    "index=df_all['Description'].index[df_all['Description'].apply(pd.isnull)]\n",
    "df_all.drop(index,0,inplace=True)\n",
    "df_all.shape"
   ]
  },
  {
   "cell_type": "code",
   "execution_count": 7,
   "metadata": {},
   "outputs": [],
   "source": [
    "# Clean text to remove any punctuation and stop words and convert all text to lower case\n",
    "\n",
    "corpus = []\n",
    "for i, description in enumerate(df_text['Description']):\n",
    "    desc = re.sub('[^a-zA-Z]',' ',description)\n",
    "    desc = desc.lower()\n",
    "    desc = desc.split()\n",
    "    desc = [word for word in desc if not word in set(stopwords.words('english'))]\n",
    "    desc = ' '.join(desc)\n",
    "    corpus.append(desc)\n",
    "\n",
    "df_text = df_text.join(pd.DataFrame({'clean':corpus}))\n",
    "df_text.dropna(inplace=True)"
   ]
  },
  {
   "cell_type": "code",
   "execution_count": 8,
   "metadata": {},
   "outputs": [],
   "source": [
    "# Create function to tokenize, remove stop words and convert to lowercase\n",
    "# Adapted from https://www.dataquest.io/blog/tutorial-text-classification-in-python-using-spacy/\n",
    "\n",
    "import string\n",
    "stop_words = spacy.lang.en.stop_words.STOP_WORDS\n",
    "from spacy.lang.en import English\n",
    "punctuations = string.punctuation\n",
    "\n",
    "# Load English tokenizer, tagger, parser, NER and word vectors\n",
    "parser = English()\n",
    "\n",
    "# Creating our tokenizer function\n",
    "def spacy_tokenizer(sentence):\n",
    "    # Creating our token object, which is used to create documents with linguistic annotations.\n",
    "    mytokens = parser(sentence)\n",
    "\n",
    "    # Lemmatizing each token and converting each token into lowercase\n",
    "    mytokens = [ word.lemma_.lower().strip() if word.lemma_ != \"-PRON-\" else word.lower_ for word in mytokens ]\n",
    "\n",
    "    # Removing stop words\n",
    "    mytokens = [ word for word in mytokens if word not in stop_words and word not in punctuations ]\n",
    "\n",
    "    # return preprocessed list of tokens\n",
    "    return mytokens"
   ]
  },
  {
   "cell_type": "code",
   "execution_count": 9,
   "metadata": {},
   "outputs": [],
   "source": [
    "# Set up BOW\n",
    "cv = CountVectorizer(max_features=2000,tokenizer = spacy_tokenizer, ngram_range=(1,1))\n",
    "X_bow = cv.fit_transform(df_text['clean']).toarray()\n",
    "y_bow = df_text.iloc[:,0].values\n",
    "X_train_bow, X_test_bow, y_train_bow, y_test_bow = train_test_split(X_bow,y_bow,test_size=0.25)"
   ]
  },
  {
   "cell_type": "code",
   "execution_count": 10,
   "metadata": {},
   "outputs": [],
   "source": [
    "df_text.to_pickle('df_text.pkl')"
   ]
  },
  {
   "cell_type": "markdown",
   "metadata": {},
   "source": [
    "### Try KMeans Clustering on BOW"
   ]
  },
  {
   "cell_type": "code",
   "execution_count": 11,
   "metadata": {},
   "outputs": [
    {
     "data": {
      "text/plain": [
       "0    8575\n",
       "1    4316\n",
       "3    1257\n",
       "2     821\n",
       "Name: cluster, dtype: int64"
      ]
     },
     "execution_count": 11,
     "metadata": {},
     "output_type": "execute_result"
    }
   ],
   "source": [
    "from sklearn.cluster import KMeans\n",
    "km = KMeans(n_clusters=4)\n",
    "km.fit(X_bow)\n",
    "clusters = km.labels_.tolist()\n",
    "df_text['cluster']= clusters\n",
    "df_text['cluster'].value_counts() "
   ]
  },
  {
   "cell_type": "code",
   "execution_count": 12,
   "metadata": {},
   "outputs": [
    {
     "data": {
      "text/plain": [
       "<matplotlib.axes._subplots.AxesSubplot at 0x2040bd132b0>"
      ]
     },
     "execution_count": 12,
     "metadata": {},
     "output_type": "execute_result"
    },
    {
     "data": {
      "image/png": "[encoded data removed]",
      "text/plain": [
       "<Figure size 432x288 with 1 Axes>"
      ]
     },
     "metadata": {
      "needs_background": "light"
     },
     "output_type": "display_data"
    }
   ],
   "source": [
    "df_text['cluster'].hist()"
   ]
  },
  {
   "cell_type": "markdown",
   "metadata": {},
   "source": [
    "#### There does not appear to be a correlation of the clusters with the adoption speed:"
   ]
  },
  {
   "cell_type": "code",
   "execution_count": 13,
   "metadata": {},
   "outputs": [
    {
     "data": {
      "text/plain": [
       "<matplotlib.axes._subplots.AxesSubplot at 0x204390438d0>"
      ]
     },
     "execution_count": 13,
     "metadata": {},
     "output_type": "execute_result"
    },
    {
     "data": {
      "image/png": "[encoded data removed]",
      "text/plain": [
       "<Figure size 432x288 with 1 Axes>"
      ]
     },
     "metadata": {
      "needs_background": "light"
     },
     "output_type": "display_data"
    }
   ],
   "source": [
    "df_text['AdoptionSpeed'].hist()"
   ]
  },
  {
   "cell_type": "code",
   "execution_count": 14,
   "metadata": {},
   "outputs": [],
   "source": [
    "vectorizer = TfidfVectorizer()\n",
    "test_df = df_text[:5000].copy()\n",
    "X_tfidf=vectorizer.fit_transform(test_df['Description'])\n",
    "y=test_df.iloc[:,0].values\n",
    "X_train_tfidf, X_test_tfidf, y_train_tfidf, y_test_tfidf = train_test_split(X_tfidf,y,test_size=0.25)"
   ]
  },
  {
   "cell_type": "code",
   "execution_count": 19,
   "metadata": {},
   "outputs": [
    {
     "data": {
      "text/plain": [
       "<matplotlib.axes._subplots.AxesSubplot at 0x2043ab7e860>"
      ]
     },
     "execution_count": 19,
     "metadata": {},
     "output_type": "execute_result"
    },
    {
     "data": {
      "image/png": "[encoded data removed]",
      "text/plain": [
       "<Figure size 432x288 with 1 Axes>"
      ]
     },
     "metadata": {
      "needs_background": "light"
     },
     "output_type": "display_data"
    }
   ],
   "source": [
    "'''km.fit(X_tfidf)\n",
    "clusters = km.labels_.tolist()\n",
    "df_text['cluster tfidf']= clusters\n",
    "df_text['cluster tfidf'].hist()'''\n",
    "\n",
    "test_df['cluster tfidf']= clusters\n",
    "test_df['cluster tfidf'].hist()"
   ]
  },
  {
   "cell_type": "code",
   "execution_count": 21,
   "metadata": {},
   "outputs": [
    {
     "data": {
      "text/plain": [
       "<matplotlib.axes._subplots.AxesSubplot at 0x2043abbb9b0>"
      ]
     },
     "execution_count": 21,
     "metadata": {},
     "output_type": "execute_result"
    },
    {
     "data": {
      "image/png": "[encoded data removed]",
      "text/plain": [
       "<Figure size 432x288 with 1 Axes>"
      ]
     },
     "metadata": {
      "needs_background": "light"
     },
     "output_type": "display_data"
    }
   ],
   "source": [
    "#df_text[df_text['cluster tfidf']==1]['AdoptionSpeed'].hist()\n",
    "test_df[test_df['cluster tfidf']==1]['AdoptionSpeed'].hist()"
   ]
  },
  {
   "cell_type": "code",
   "execution_count": 22,
   "metadata": {},
   "outputs": [
    {
     "data": {
      "text/plain": [
       "array([[  0,   0,   0,   0,   0],\n",
       "       [628, 342,  76,  90,   0],\n",
       "       [766, 405,  75, 110,   0],\n",
       "       [653, 298,  50,  84,   0],\n",
       "       [830, 399,  77, 117,   0]], dtype=int64)"
      ]
     },
     "execution_count": 22,
     "metadata": {},
     "output_type": "execute_result"
    }
   ],
   "source": [
    "#confusion_matrix(y,df_text['cluster'])\n",
    "confusion_matrix(y,test_df['cluster'])"
   ]
  },
  {
   "cell_type": "code",
   "execution_count": 24,
   "metadata": {},
   "outputs": [
    {
     "data": {
      "text/plain": [
       "-0.021296748166270328"
      ]
     },
     "execution_count": 24,
     "metadata": {},
     "output_type": "execute_result"
    }
   ],
   "source": [
    "from sklearn import metrics\n",
    "#metrics.adjusted_rand_score(y, df_text['cluster'])\n",
    "#metrics.silhouette_score(y.reshape(-1, 1),df_text['cluster'])\n",
    "\n",
    "metrics.silhouette_score(y.reshape(-1, 1),test_df['cluster'])"
   ]
  },
  {
   "cell_type": "markdown",
   "metadata": {},
   "source": [
    "### Try random forest:"
   ]
  },
  {
   "cell_type": "code",
   "execution_count": 25,
   "metadata": {},
   "outputs": [
    {
     "name": "stdout",
     "output_type": "stream",
     "text": [
      "0.2575474218541277\n",
      "[[224 256 245 264]\n",
      " [257 298 260 307]\n",
      " [138 163 120 171]\n",
      " [221 271 226 322]]\n"
     ]
    }
   ],
   "source": [
    "rfc = ensemble.RandomForestClassifier(n_estimators=10)\n",
    "rfc.fit(X_train_bow, y_train_bow)\n",
    "y_pred = rfc.predict(X_test_bow)\n",
    "print(rfc.score(X_test_bow, y_test_bow))\n",
    "print(confusion_matrix(y_pred,y_test_bow))"
   ]
  },
  {
   "cell_type": "code",
   "execution_count": 26,
   "metadata": {},
   "outputs": [
    {
     "name": "stdout",
     "output_type": "stream",
     "text": [
      "0.336\n",
      "[[ 86  88  68  89]\n",
      " [ 83 129  82  91]\n",
      " [ 28  46  57  33]\n",
      " [ 71  83  68 148]]\n"
     ]
    }
   ],
   "source": [
    "rfc.fit(X_train_tfidf, y_train_tfidf)\n",
    "y_pred = rfc.predict(X_test_tfidf)\n",
    "print(rfc.score(X_test_tfidf, y_test_tfidf))\n",
    "print(confusion_matrix(y_pred,y_test_tfidf))"
   ]
  },
  {
   "cell_type": "markdown",
   "metadata": {},
   "source": [
    "### Try Latent Semantic Analysis "
   ]
  },
  {
   "cell_type": "code",
   "execution_count": 31,
   "metadata": {},
   "outputs": [
    {
     "name": "stdout",
     "output_type": "stream",
     "text": [
      "Percent variance captured by all components: 79.43516706343476\n"
     ]
    }
   ],
   "source": [
    "from sklearn.decomposition import TruncatedSVD\n",
    "from sklearn.pipeline import make_pipeline\n",
    "from sklearn.preprocessing import Normalizer\n",
    "\n",
    "#Our SVD data reducer.  We are going to reduce the feature space from 1379 to 130.\n",
    "svd= TruncatedSVD(1000)\n",
    "lsa = make_pipeline(svd, Normalizer(copy=False))\n",
    "# Run SVD on the training data, then project the training data.\n",
    "X_train_lsa = lsa.fit_transform(X_train_tfidf)\n",
    "X_test_lsa = lsa.fit_transform(X_test_tfidf)\n",
    "\n",
    "variance_explained=svd.explained_variance_ratio_\n",
    "total_variance = variance_explained.sum()\n",
    "print(\"Percent variance captured by all components:\",total_variance*100)"
   ]
  },
  {
   "cell_type": "code",
   "execution_count": 33,
   "metadata": {},
   "outputs": [],
   "source": [
    "X_test_lsa = lsa.fit_transform(X_test_tfidf)"
   ]
  },
  {
   "cell_type": "code",
   "execution_count": 35,
   "metadata": {},
   "outputs": [
    {
     "name": "stdout",
     "output_type": "stream",
     "text": [
      "0.228\n"
     ]
    }
   ],
   "source": [
    "rfc.fit(X_train_lsa, y_train_tfidf)\n",
    "y_pred = rfc.predict(X_test_lsa)\n",
    "print(rfc.score(X_test_lsa, y_test_tfidf))"
   ]
  },
  {
   "cell_type": "markdown",
   "metadata": {},
   "source": [
    "#### Try Latent Dirichlet Allocation"
   ]
  },
  {
   "cell_type": "code",
   "execution_count": 36,
   "metadata": {},
   "outputs": [],
   "source": [
    "from sklearn.decomposition import LatentDirichletAllocation\n",
    "LDA = LatentDirichletAllocation(n_components=5,random_state=42)\n",
    "cv = CountVectorizer(max_df=0.95, min_df=2, stop_words='english')\n",
    "dtm = cv.fit_transform(df_text['clean'])"
   ]
  },
  {
   "cell_type": "code",
   "execution_count": 37,
   "metadata": {},
   "outputs": [
    {
     "data": {
      "text/plain": [
       "LatentDirichletAllocation(batch_size=128, doc_topic_prior=None,\n",
       "                          evaluate_every=-1, learning_decay=0.7,\n",
       "                          learning_method='batch', learning_offset=10.0,\n",
       "                          max_doc_update_iter=100, max_iter=10,\n",
       "                          mean_change_tol=0.001, n_components=5, n_jobs=None,\n",
       "                          perp_tol=0.1, random_state=42, topic_word_prior=None,\n",
       "                          total_samples=1000000.0, verbose=0)"
      ]
     },
     "execution_count": 37,
     "metadata": {},
     "output_type": "execute_result"
    }
   ],
   "source": [
    "LDA.fit(dtm)"
   ]
  },
  {
   "cell_type": "code",
   "execution_count": 38,
   "metadata": {},
   "outputs": [
    {
     "data": {
      "text/plain": [
       "5"
      ]
     },
     "execution_count": 38,
     "metadata": {},
     "output_type": "execute_result"
    }
   ],
   "source": [
    "len(LDA.components_)"
   ]
  },
  {
   "cell_type": "code",
   "execution_count": 39,
   "metadata": {},
   "outputs": [],
   "source": [
    "topic_results = LDA.transform(dtm)"
   ]
  },
  {
   "cell_type": "code",
   "execution_count": 40,
   "metadata": {},
   "outputs": [],
   "source": [
    "df_text['Topic'] = topic_results.argmax(axis=1)"
   ]
  },
  {
   "cell_type": "code",
   "execution_count": 41,
   "metadata": {},
   "outputs": [
    {
     "name": "stdout",
     "output_type": "stream",
     "text": [
      "time\n",
      "cat\n",
      "food\n",
      "like\n",
      "playful\n",
      "little\n",
      "old\n",
      "kitten\n",
      "home\n",
      "loves\n"
     ]
    }
   ],
   "source": [
    "top_word_indices = LDA.components_[0].argsort()[-10:]\n",
    "for index in top_word_indices:\n",
    "    print(cv.get_feature_names()[index])"
   ]
  },
  {
   "cell_type": "code",
   "execution_count": 42,
   "metadata": {},
   "outputs": [
    {
     "name": "stdout",
     "output_type": "stream",
     "text": [
      "THE TOP 15 WORDS FOR TOPIC #0\n",
      "['play', 'months', 'love', 'adoption', 'cats', 'time', 'cat', 'food', 'like', 'playful', 'little', 'old', 'kitten', 'home', 'loves']\n",
      "\n",
      "\n",
      "THE TOP 15 WORDS FOR TOPIC #1\n",
      "['nak', 'tak', 'ada', 'anak', 'boleh', 'manja', 'yg', 'ni', 'untuk', 'di', 'yang', 'dia', 'dan', 'kucing', 'saya']\n",
      "\n",
      "\n",
      "THE TOP 15 WORDS FOR TOPIC #2\n",
      "['good', 'cute', 'rescued', 'pls', 'female', 'dog', 'looking', 'old', 'adopt', 'interested', 'puppies', 'contact', 'adoption', 'puppy', 'home']\n",
      "\n",
      "\n",
      "THE TOP 15 WORDS FOR TOPIC #3\n",
      "['like', 'need', 'adoption', 'mother', 'new', 'love', 'food', 'adopt', 'house', 'care', 'kitten', 'cats', 'home', 'kittens', 'cat']\n",
      "\n",
      "\n",
      "THE TOP 15 WORDS FOR TOPIC #4\n",
      "['active', 'loves', 'needs', 'playful', 'family', 'new', 'looking', 'love', 'friendly', 'dogs', 'owner', 'loving', 'good', 'home', 'dog']\n",
      "\n",
      "\n"
     ]
    }
   ],
   "source": [
    "for index,topic in enumerate(LDA.components_):\n",
    "    print(f'THE TOP 15 WORDS FOR TOPIC #{index}')\n",
    "    print([cv.get_feature_names()[i] for i in topic.argsort()[-15:]])\n",
    "    print('\\n')"
   ]
  },
  {
   "cell_type": "markdown",
   "metadata": {},
   "source": [
    "#### Try Non-negative Matrix Factorization"
   ]
  },
  {
   "cell_type": "code",
   "execution_count": 43,
   "metadata": {},
   "outputs": [
    {
     "data": {
      "text/plain": [
       "NMF(alpha=0.0, beta_loss='frobenius', init=None, l1_ratio=0.0, max_iter=200,\n",
       "    n_components=4, random_state=42, shuffle=False, solver='cd', tol=0.0001,\n",
       "    verbose=0)"
      ]
     },
     "execution_count": 43,
     "metadata": {},
     "output_type": "execute_result"
    }
   ],
   "source": [
    "nmf_model = NMF(n_components=4,random_state=42)\n",
    "nmf_model.fit(dtm)"
   ]
  },
  {
   "cell_type": "code",
   "execution_count": 44,
   "metadata": {},
   "outputs": [
    {
     "name": "stdout",
     "output_type": "stream",
     "text": [
      "time\n",
      "family\n",
      "puppies\n",
      "adopt\n",
      "owner\n",
      "house\n",
      "good\n",
      "adoption\n",
      "dogs\n",
      "dog\n"
     ]
    }
   ],
   "source": [
    "top_word_indices = nmf_model.components_[0].argsort()[-10:]\n",
    "for index in top_word_indices:\n",
    "    print(cv.get_feature_names()[index])"
   ]
  },
  {
   "cell_type": "code",
   "execution_count": 45,
   "metadata": {},
   "outputs": [
    {
     "name": "stdout",
     "output_type": "stream",
     "text": [
      "THE TOP 15 WORDS FOR TOPIC #0\n",
      "['isolated', '3cutie', 'join', 'energetic', 'bloomed', 'sheru', 'doe', 'notification', '33', 'melbourne', 'gain', 'fairer', '3kgs', 'curiosity', 'curable']\n",
      "\n",
      "\n",
      "THE TOP 15 WORDS FOR TOPIC #1\n",
      "['gain', 'simpan', 'sheru', 'lexii', 'bloomed', 'moved', 'jantina', 'isolated', 'mase', 'eecho', '3kgs', 'hyper', 'bonnet', 'hyped', 'bolehlah']\n",
      "\n",
      "\n",
      "THE TOP 15 WORDS FOR TOPIC #2\n",
      "['location', 'taco', 'bcs', 'scratched', '24th', 'action', 'kucen', 'lucky', 'soyoung', 'contacts', 'switch', 'contagious', 'impossible', 'clown', 'playbite']\n",
      "\n",
      "\n",
      "THE TOP 15 WORDS FOR TOPIC #3\n",
      "['notification', 'passerby', 'japanese', 'mase', 'loyal', 'eldery', '33', 'guinea', 'join', 'nourished', 'chaining', 'fairer', 'jimbo', 'joseph', 'frosty']\n",
      "\n",
      "\n"
     ]
    }
   ],
   "source": [
    "for index,topic in enumerate(nmf_model.components_):\n",
    "    print(f'THE TOP 15 WORDS FOR TOPIC #{index}')\n",
    "    print([vectorizer.get_feature_names()[i] for i in topic.argsort()[-15:]])\n",
    "    print('\\n')"
   ]
  },
  {
   "cell_type": "code",
   "execution_count": 46,
   "metadata": {},
   "outputs": [],
   "source": [
    "df_text['Topic NMF']= topic_results.argmax(axis=1)"
   ]
  },
  {
   "cell_type": "code",
   "execution_count": 47,
   "metadata": {},
   "outputs": [
    {
     "data": {
      "text/html": [
       "<div>\n",
       "<style scoped>\n",
       "    .dataframe tbody tr th:only-of-type {\n",
       "        vertical-align: middle;\n",
       "    }\n",
       "\n",
       "    .dataframe tbody tr th {\n",
       "        vertical-align: top;\n",
       "    }\n",
       "\n",
       "    .dataframe thead th {\n",
       "        text-align: right;\n",
       "    }\n",
       "</style>\n",
       "<table border=\"1\" class=\"dataframe\">\n",
       "  <thead>\n",
       "    <tr style=\"text-align: right;\">\n",
       "      <th></th>\n",
       "      <th>Description</th>\n",
       "      <th>AdoptionSpeed</th>\n",
       "      <th>Topic NMF</th>\n",
       "    </tr>\n",
       "  </thead>\n",
       "  <tbody>\n",
       "    <tr>\n",
       "      <th>0</th>\n",
       "      <td>Nibble is a 3+ month old ball of cuteness. He ...</td>\n",
       "      <td>2</td>\n",
       "      <td>0</td>\n",
       "    </tr>\n",
       "    <tr>\n",
       "      <th>1</th>\n",
       "      <td>I just found it alone yesterday near my apartm...</td>\n",
       "      <td>1</td>\n",
       "      <td>3</td>\n",
       "    </tr>\n",
       "    <tr>\n",
       "      <th>2</th>\n",
       "      <td>Their pregnant mother was dumped by her irresp...</td>\n",
       "      <td>3</td>\n",
       "      <td>2</td>\n",
       "    </tr>\n",
       "    <tr>\n",
       "      <th>3</th>\n",
       "      <td>Good guard dog, very alert, active, obedience ...</td>\n",
       "      <td>2</td>\n",
       "      <td>4</td>\n",
       "    </tr>\n",
       "    <tr>\n",
       "      <th>4</th>\n",
       "      <td>This handsome yet cute boy is up for adoption....</td>\n",
       "      <td>2</td>\n",
       "      <td>2</td>\n",
       "    </tr>\n",
       "    <tr>\n",
       "      <th>5</th>\n",
       "      <td>This is a stray kitten that came to my house. ...</td>\n",
       "      <td>2</td>\n",
       "      <td>3</td>\n",
       "    </tr>\n",
       "    <tr>\n",
       "      <th>6</th>\n",
       "      <td>anyone within the area of ipoh or taiping who ...</td>\n",
       "      <td>1</td>\n",
       "      <td>3</td>\n",
       "    </tr>\n",
       "    <tr>\n",
       "      <th>7</th>\n",
       "      <td>Siu Pak just give birth on 13/6/10 to 6puppies...</td>\n",
       "      <td>3</td>\n",
       "      <td>2</td>\n",
       "    </tr>\n",
       "    <tr>\n",
       "      <th>8</th>\n",
       "      <td>healthy and active, feisty kitten found in nei...</td>\n",
       "      <td>1</td>\n",
       "      <td>3</td>\n",
       "    </tr>\n",
       "    <tr>\n",
       "      <th>9</th>\n",
       "      <td>Very manja and gentle stray cat found, we woul...</td>\n",
       "      <td>4</td>\n",
       "      <td>3</td>\n",
       "    </tr>\n",
       "    <tr>\n",
       "      <th>10</th>\n",
       "      <td>For serious adopter, please do sms or call for...</td>\n",
       "      <td>1</td>\n",
       "      <td>2</td>\n",
       "    </tr>\n",
       "    <tr>\n",
       "      <th>11</th>\n",
       "      <td>Kali is a super playful kitten who is on the g...</td>\n",
       "      <td>1</td>\n",
       "      <td>0</td>\n",
       "    </tr>\n",
       "    <tr>\n",
       "      <th>12</th>\n",
       "      <td>Peanut was an abused puppy until he was rescue...</td>\n",
       "      <td>2</td>\n",
       "      <td>2</td>\n",
       "    </tr>\n",
       "    <tr>\n",
       "      <th>13</th>\n",
       "      <td>Hi Pet Lovers! This is my first posting and I ...</td>\n",
       "      <td>1</td>\n",
       "      <td>3</td>\n",
       "    </tr>\n",
       "    <tr>\n",
       "      <th>14</th>\n",
       "      <td>Lost Dog Found (Bandar Menjalara, Kepong／Taman...</td>\n",
       "      <td>2</td>\n",
       "      <td>2</td>\n",
       "    </tr>\n",
       "    <tr>\n",
       "      <th>15</th>\n",
       "      <td>We moved out of our apartment to a landed home...</td>\n",
       "      <td>4</td>\n",
       "      <td>4</td>\n",
       "    </tr>\n",
       "    <tr>\n",
       "      <th>16</th>\n",
       "      <td>to be spayed on /12 adorable &amp; friendly</td>\n",
       "      <td>3</td>\n",
       "      <td>2</td>\n",
       "    </tr>\n",
       "    <tr>\n",
       "      <th>17</th>\n",
       "      <td>shes active... she can obey wht command that u...</td>\n",
       "      <td>4</td>\n",
       "      <td>3</td>\n",
       "    </tr>\n",
       "    <tr>\n",
       "      <th>18</th>\n",
       "      <td>This cutie dumped by it's owner at the market ...</td>\n",
       "      <td>2</td>\n",
       "      <td>3</td>\n",
       "    </tr>\n",
       "    <tr>\n",
       "      <th>19</th>\n",
       "      <td>Birth Date: Oct 30th Kitty 1, Melly -Female Sa...</td>\n",
       "      <td>4</td>\n",
       "      <td>1</td>\n",
       "    </tr>\n",
       "  </tbody>\n",
       "</table>\n",
       "</div>"
      ],
      "text/plain": [
       "                                          Description  AdoptionSpeed  \\\n",
       "0   Nibble is a 3+ month old ball of cuteness. He ...              2   \n",
       "1   I just found it alone yesterday near my apartm...              1   \n",
       "2   Their pregnant mother was dumped by her irresp...              3   \n",
       "3   Good guard dog, very alert, active, obedience ...              2   \n",
       "4   This handsome yet cute boy is up for adoption....              2   \n",
       "5   This is a stray kitten that came to my house. ...              2   \n",
       "6   anyone within the area of ipoh or taiping who ...              1   \n",
       "7   Siu Pak just give birth on 13/6/10 to 6puppies...              3   \n",
       "8   healthy and active, feisty kitten found in nei...              1   \n",
       "9   Very manja and gentle stray cat found, we woul...              4   \n",
       "10  For serious adopter, please do sms or call for...              1   \n",
       "11  Kali is a super playful kitten who is on the g...              1   \n",
       "12  Peanut was an abused puppy until he was rescue...              2   \n",
       "13  Hi Pet Lovers! This is my first posting and I ...              1   \n",
       "14  Lost Dog Found (Bandar Menjalara, Kepong／Taman...              2   \n",
       "15  We moved out of our apartment to a landed home...              4   \n",
       "16            to be spayed on /12 adorable & friendly              3   \n",
       "17  shes active... she can obey wht command that u...              4   \n",
       "18  This cutie dumped by it's owner at the market ...              2   \n",
       "19  Birth Date: Oct 30th Kitty 1, Melly -Female Sa...              4   \n",
       "\n",
       "    Topic NMF  \n",
       "0           0  \n",
       "1           3  \n",
       "2           2  \n",
       "3           4  \n",
       "4           2  \n",
       "5           3  \n",
       "6           3  \n",
       "7           2  \n",
       "8           3  \n",
       "9           3  \n",
       "10          2  \n",
       "11          0  \n",
       "12          2  \n",
       "13          3  \n",
       "14          2  \n",
       "15          4  \n",
       "16          2  \n",
       "17          3  \n",
       "18          3  \n",
       "19          1  "
      ]
     },
     "execution_count": 47,
     "metadata": {},
     "output_type": "execute_result"
    }
   ],
   "source": [
    "df_text[['Description','AdoptionSpeed', 'Topic NMF']].head(20)"
   ]
  },
  {
   "cell_type": "markdown",
   "metadata": {},
   "source": [
    "#### Try SVC"
   ]
  },
  {
   "cell_type": "code",
   "execution_count": 49,
   "metadata": {},
   "outputs": [
    {
     "name": "stderr",
     "output_type": "stream",
     "text": [
      "C:\\Users\\julia\\Anaconda3\\lib\\site-packages\\sklearn\\svm\\base.py:929: ConvergenceWarning: Liblinear failed to converge, increase the number of iterations.\n",
      "  \"the number of iterations.\", ConvergenceWarning)\n"
     ]
    },
    {
     "data": {
      "text/plain": [
       "0.25567726422655623"
      ]
     },
     "execution_count": 49,
     "metadata": {},
     "output_type": "execute_result"
    }
   ],
   "source": [
    "from sklearn.svm import LinearSVC\n",
    "svc=LinearSVC()\n",
    "svc.fit(X_train_bow, y_train_bow)\n",
    "y_pred = svc.predict(X_test_bow)\n",
    "svc.score(X_test_bow, y_test_bow)"
   ]
  },
  {
   "cell_type": "markdown",
   "metadata": {},
   "source": [
    "#### Try sentiment analysis"
   ]
  },
  {
   "cell_type": "code",
   "execution_count": 50,
   "metadata": {},
   "outputs": [
    {
     "name": "stderr",
     "output_type": "stream",
     "text": [
      "[nltk_data] Downloading package vader_lexicon to\n",
      "[nltk_data]     C:\\Users\\julia\\AppData\\Roaming\\nltk_data...\n",
      "[nltk_data]   Package vader_lexicon is already up-to-date!\n"
     ]
    }
   ],
   "source": [
    "nltk.download('vader_lexicon')\n",
    "\n",
    "from nltk.sentiment.vader import SentimentIntensityAnalyzer\n",
    "sid = SentimentIntensityAnalyzer()"
   ]
  },
  {
   "cell_type": "code",
   "execution_count": 51,
   "metadata": {},
   "outputs": [
    {
     "data": {
      "text/html": [
       "<div>\n",
       "<style scoped>\n",
       "    .dataframe tbody tr th:only-of-type {\n",
       "        vertical-align: middle;\n",
       "    }\n",
       "\n",
       "    .dataframe tbody tr th {\n",
       "        vertical-align: top;\n",
       "    }\n",
       "\n",
       "    .dataframe thead th {\n",
       "        text-align: right;\n",
       "    }\n",
       "</style>\n",
       "<table border=\"1\" class=\"dataframe\">\n",
       "  <thead>\n",
       "    <tr style=\"text-align: right;\">\n",
       "      <th></th>\n",
       "      <th>AdoptionSpeed</th>\n",
       "      <th>Description</th>\n",
       "      <th>clean</th>\n",
       "      <th>cluster</th>\n",
       "      <th>Topic</th>\n",
       "      <th>Topic NMF</th>\n",
       "      <th>scores</th>\n",
       "      <th>compound</th>\n",
       "    </tr>\n",
       "  </thead>\n",
       "  <tbody>\n",
       "    <tr>\n",
       "      <th>0</th>\n",
       "      <td>2</td>\n",
       "      <td>Nibble is a 3+ month old ball of cuteness. He ...</td>\n",
       "      <td>nibble month old ball cuteness energetic playf...</td>\n",
       "      <td>0</td>\n",
       "      <td>0</td>\n",
       "      <td>0</td>\n",
       "      <td>{'neg': 0.0, 'neu': 0.745, 'pos': 0.255, 'comp...</td>\n",
       "      <td>0.9552</td>\n",
       "    </tr>\n",
       "    <tr>\n",
       "      <th>1</th>\n",
       "      <td>1</td>\n",
       "      <td>I just found it alone yesterday near my apartm...</td>\n",
       "      <td>found alone yesterday near apartment shaking b...</td>\n",
       "      <td>0</td>\n",
       "      <td>3</td>\n",
       "      <td>3</td>\n",
       "      <td>{'neg': 0.149, 'neu': 0.723, 'pos': 0.129, 'co...</td>\n",
       "      <td>0.1280</td>\n",
       "    </tr>\n",
       "    <tr>\n",
       "      <th>2</th>\n",
       "      <td>3</td>\n",
       "      <td>Their pregnant mother was dumped by her irresp...</td>\n",
       "      <td>pregnant mother dumped irresponsible owner roa...</td>\n",
       "      <td>1</td>\n",
       "      <td>2</td>\n",
       "      <td>2</td>\n",
       "      <td>{'neg': 0.095, 'neu': 0.706, 'pos': 0.2, 'comp...</td>\n",
       "      <td>0.7650</td>\n",
       "    </tr>\n",
       "    <tr>\n",
       "      <th>3</th>\n",
       "      <td>2</td>\n",
       "      <td>Good guard dog, very alert, active, obedience ...</td>\n",
       "      <td>good guard dog alert active obedience waiting ...</td>\n",
       "      <td>0</td>\n",
       "      <td>4</td>\n",
       "      <td>4</td>\n",
       "      <td>{'neg': 0.0, 'neu': 0.483, 'pos': 0.517, 'comp...</td>\n",
       "      <td>0.9538</td>\n",
       "    </tr>\n",
       "    <tr>\n",
       "      <th>4</th>\n",
       "      <td>2</td>\n",
       "      <td>This handsome yet cute boy is up for adoption....</td>\n",
       "      <td>handsome yet cute boy adoption playful pal see...</td>\n",
       "      <td>1</td>\n",
       "      <td>2</td>\n",
       "      <td>2</td>\n",
       "      <td>{'neg': 0.0, 'neu': 0.635, 'pos': 0.365, 'comp...</td>\n",
       "      <td>0.9880</td>\n",
       "    </tr>\n",
       "  </tbody>\n",
       "</table>\n",
       "</div>"
      ],
      "text/plain": [
       "   AdoptionSpeed                                        Description  \\\n",
       "0              2  Nibble is a 3+ month old ball of cuteness. He ...   \n",
       "1              1  I just found it alone yesterday near my apartm...   \n",
       "2              3  Their pregnant mother was dumped by her irresp...   \n",
       "3              2  Good guard dog, very alert, active, obedience ...   \n",
       "4              2  This handsome yet cute boy is up for adoption....   \n",
       "\n",
       "                                               clean  cluster  Topic  \\\n",
       "0  nibble month old ball cuteness energetic playf...        0      0   \n",
       "1  found alone yesterday near apartment shaking b...        0      3   \n",
       "2  pregnant mother dumped irresponsible owner roa...        1      2   \n",
       "3  good guard dog alert active obedience waiting ...        0      4   \n",
       "4  handsome yet cute boy adoption playful pal see...        1      2   \n",
       "\n",
       "   Topic NMF                                             scores  compound  \n",
       "0          0  {'neg': 0.0, 'neu': 0.745, 'pos': 0.255, 'comp...    0.9552  \n",
       "1          3  {'neg': 0.149, 'neu': 0.723, 'pos': 0.129, 'co...    0.1280  \n",
       "2          2  {'neg': 0.095, 'neu': 0.706, 'pos': 0.2, 'comp...    0.7650  \n",
       "3          4  {'neg': 0.0, 'neu': 0.483, 'pos': 0.517, 'comp...    0.9538  \n",
       "4          2  {'neg': 0.0, 'neu': 0.635, 'pos': 0.365, 'comp...    0.9880  "
      ]
     },
     "execution_count": 51,
     "metadata": {},
     "output_type": "execute_result"
    }
   ],
   "source": [
    "df_text['scores'] = df_text['Description'].apply(lambda review: sid.polarity_scores(review))\n",
    "df_text['compound']  = df_text['scores'].apply(lambda score_dict: score_dict['compound'])\n",
    "\n",
    "df_text.head()"
   ]
  },
  {
   "cell_type": "code",
   "execution_count": 105,
   "metadata": {},
   "outputs": [
    {
     "data": {
      "text/html": [
       "<div>\n",
       "<style scoped>\n",
       "    .dataframe tbody tr th:only-of-type {\n",
       "        vertical-align: middle;\n",
       "    }\n",
       "\n",
       "    .dataframe tbody tr th {\n",
       "        vertical-align: top;\n",
       "    }\n",
       "\n",
       "    .dataframe thead th {\n",
       "        text-align: right;\n",
       "    }\n",
       "</style>\n",
       "<table border=\"1\" class=\"dataframe\">\n",
       "  <thead>\n",
       "    <tr style=\"text-align: right;\">\n",
       "      <th></th>\n",
       "      <th>AdoptionSpeed</th>\n",
       "      <th>Description</th>\n",
       "      <th>clean</th>\n",
       "      <th>cluster</th>\n",
       "      <th>Topic</th>\n",
       "      <th>Topic NMF</th>\n",
       "      <th>scores</th>\n",
       "      <th>compound</th>\n",
       "      <th>binary</th>\n",
       "    </tr>\n",
       "  </thead>\n",
       "  <tbody>\n",
       "    <tr>\n",
       "      <th>0</th>\n",
       "      <td>2</td>\n",
       "      <td>Nibble is a 3+ month old ball of cuteness. He ...</td>\n",
       "      <td>nibble month old ball cuteness energetic playf...</td>\n",
       "      <td>0</td>\n",
       "      <td>0</td>\n",
       "      <td>0</td>\n",
       "      <td>{'neg': 0.0, 'neu': 0.745, 'pos': 0.255, 'comp...</td>\n",
       "      <td>0.9552</td>\n",
       "      <td>0</td>\n",
       "    </tr>\n",
       "    <tr>\n",
       "      <th>1</th>\n",
       "      <td>1</td>\n",
       "      <td>I just found it alone yesterday near my apartm...</td>\n",
       "      <td>found alone yesterday near apartment shaking b...</td>\n",
       "      <td>0</td>\n",
       "      <td>3</td>\n",
       "      <td>3</td>\n",
       "      <td>{'neg': 0.149, 'neu': 0.723, 'pos': 0.129, 'co...</td>\n",
       "      <td>0.1280</td>\n",
       "      <td>0</td>\n",
       "    </tr>\n",
       "    <tr>\n",
       "      <th>2</th>\n",
       "      <td>3</td>\n",
       "      <td>Their pregnant mother was dumped by her irresp...</td>\n",
       "      <td>pregnant mother dumped irresponsible owner roa...</td>\n",
       "      <td>1</td>\n",
       "      <td>2</td>\n",
       "      <td>2</td>\n",
       "      <td>{'neg': 0.095, 'neu': 0.706, 'pos': 0.2, 'comp...</td>\n",
       "      <td>0.7650</td>\n",
       "      <td>1</td>\n",
       "    </tr>\n",
       "    <tr>\n",
       "      <th>3</th>\n",
       "      <td>2</td>\n",
       "      <td>Good guard dog, very alert, active, obedience ...</td>\n",
       "      <td>good guard dog alert active obedience waiting ...</td>\n",
       "      <td>0</td>\n",
       "      <td>4</td>\n",
       "      <td>4</td>\n",
       "      <td>{'neg': 0.0, 'neu': 0.483, 'pos': 0.517, 'comp...</td>\n",
       "      <td>0.9538</td>\n",
       "      <td>0</td>\n",
       "    </tr>\n",
       "    <tr>\n",
       "      <th>4</th>\n",
       "      <td>2</td>\n",
       "      <td>This handsome yet cute boy is up for adoption....</td>\n",
       "      <td>handsome yet cute boy adoption playful pal see...</td>\n",
       "      <td>1</td>\n",
       "      <td>2</td>\n",
       "      <td>2</td>\n",
       "      <td>{'neg': 0.0, 'neu': 0.635, 'pos': 0.365, 'comp...</td>\n",
       "      <td>0.9880</td>\n",
       "      <td>0</td>\n",
       "    </tr>\n",
       "    <tr>\n",
       "      <th>5</th>\n",
       "      <td>2</td>\n",
       "      <td>This is a stray kitten that came to my house. ...</td>\n",
       "      <td>stray kitten came house feeding cannot keep</td>\n",
       "      <td>0</td>\n",
       "      <td>3</td>\n",
       "      <td>3</td>\n",
       "      <td>{'neg': 0.0, 'neu': 1.0, 'pos': 0.0, 'compound...</td>\n",
       "      <td>0.0000</td>\n",
       "      <td>0</td>\n",
       "    </tr>\n",
       "    <tr>\n",
       "      <th>6</th>\n",
       "      <td>1</td>\n",
       "      <td>anyone within the area of ipoh or taiping who ...</td>\n",
       "      <td>anyone within area ipoh taiping interested ado...</td>\n",
       "      <td>0</td>\n",
       "      <td>3</td>\n",
       "      <td>3</td>\n",
       "      <td>{'neg': 0.0, 'neu': 0.814, 'pos': 0.186, 'comp...</td>\n",
       "      <td>0.9116</td>\n",
       "      <td>0</td>\n",
       "    </tr>\n",
       "    <tr>\n",
       "      <th>7</th>\n",
       "      <td>3</td>\n",
       "      <td>Siu Pak just give birth on 13/6/10 to 6puppies...</td>\n",
       "      <td>siu pak give birth puppies interested pls call...</td>\n",
       "      <td>0</td>\n",
       "      <td>2</td>\n",
       "      <td>2</td>\n",
       "      <td>{'neg': 0.0, 'neu': 0.818, 'pos': 0.182, 'comp...</td>\n",
       "      <td>0.4588</td>\n",
       "      <td>1</td>\n",
       "    </tr>\n",
       "    <tr>\n",
       "      <th>8</th>\n",
       "      <td>1</td>\n",
       "      <td>healthy and active, feisty kitten found in nei...</td>\n",
       "      <td>healthy active feisty kitten found neighbours ...</td>\n",
       "      <td>0</td>\n",
       "      <td>3</td>\n",
       "      <td>3</td>\n",
       "      <td>{'neg': 0.113, 'neu': 0.576, 'pos': 0.311, 'co...</td>\n",
       "      <td>0.5327</td>\n",
       "      <td>0</td>\n",
       "    </tr>\n",
       "    <tr>\n",
       "      <th>9</th>\n",
       "      <td>4</td>\n",
       "      <td>Very manja and gentle stray cat found, we woul...</td>\n",
       "      <td>manja gentle stray cat found would really like...</td>\n",
       "      <td>1</td>\n",
       "      <td>3</td>\n",
       "      <td>3</td>\n",
       "      <td>{'neg': 0.0, 'neu': 0.751, 'pos': 0.249, 'comp...</td>\n",
       "      <td>0.8916</td>\n",
       "      <td>1</td>\n",
       "    </tr>\n",
       "    <tr>\n",
       "      <th>10</th>\n",
       "      <td>1</td>\n",
       "      <td>For serious adopter, please do sms or call for...</td>\n",
       "      <td>serious adopter please sms call details thanks</td>\n",
       "      <td>0</td>\n",
       "      <td>2</td>\n",
       "      <td>2</td>\n",
       "      <td>{'neg': 0.081, 'neu': 0.56, 'pos': 0.359, 'com...</td>\n",
       "      <td>0.6673</td>\n",
       "      <td>0</td>\n",
       "    </tr>\n",
       "    <tr>\n",
       "      <th>11</th>\n",
       "      <td>1</td>\n",
       "      <td>Kali is a super playful kitten who is on the g...</td>\n",
       "      <td>kali super playful kitten go minute wakes quie...</td>\n",
       "      <td>1</td>\n",
       "      <td>0</td>\n",
       "      <td>0</td>\n",
       "      <td>{'neg': 0.042, 'neu': 0.784, 'pos': 0.174, 'co...</td>\n",
       "      <td>0.9552</td>\n",
       "      <td>0</td>\n",
       "    </tr>\n",
       "    <tr>\n",
       "      <th>12</th>\n",
       "      <td>2</td>\n",
       "      <td>Peanut was an abused puppy until he was rescue...</td>\n",
       "      <td>peanut abused puppy rescued scared people happ...</td>\n",
       "      <td>1</td>\n",
       "      <td>2</td>\n",
       "      <td>2</td>\n",
       "      <td>{'neg': 0.063, 'neu': 0.582, 'pos': 0.355, 'co...</td>\n",
       "      <td>0.9702</td>\n",
       "      <td>0</td>\n",
       "    </tr>\n",
       "    <tr>\n",
       "      <th>13</th>\n",
       "      <td>1</td>\n",
       "      <td>Hi Pet Lovers! This is my first posting and I ...</td>\n",
       "      <td>hi pet lovers first posting need help months a...</td>\n",
       "      <td>3</td>\n",
       "      <td>3</td>\n",
       "      <td>3</td>\n",
       "      <td>{'neg': 0.0, 'neu': 0.771, 'pos': 0.229, 'comp...</td>\n",
       "      <td>0.9759</td>\n",
       "      <td>0</td>\n",
       "    </tr>\n",
       "    <tr>\n",
       "      <th>14</th>\n",
       "      <td>2</td>\n",
       "      <td>Lost Dog Found (Bandar Menjalara, Kepong／Taman...</td>\n",
       "      <td>lost dog found bandar menjalara kepong taman b...</td>\n",
       "      <td>1</td>\n",
       "      <td>2</td>\n",
       "      <td>2</td>\n",
       "      <td>{'neg': 0.149, 'neu': 0.779, 'pos': 0.073, 'co...</td>\n",
       "      <td>-0.5938</td>\n",
       "      <td>0</td>\n",
       "    </tr>\n",
       "    <tr>\n",
       "      <th>15</th>\n",
       "      <td>4</td>\n",
       "      <td>We moved out of our apartment to a landed home...</td>\n",
       "      <td>moved apartment landed home many friendly stra...</td>\n",
       "      <td>1</td>\n",
       "      <td>4</td>\n",
       "      <td>4</td>\n",
       "      <td>{'neg': 0.03, 'neu': 0.781, 'pos': 0.19, 'comp...</td>\n",
       "      <td>0.8979</td>\n",
       "      <td>1</td>\n",
       "    </tr>\n",
       "    <tr>\n",
       "      <th>16</th>\n",
       "      <td>3</td>\n",
       "      <td>to be spayed on /12 adorable &amp; friendly</td>\n",
       "      <td>spayed adorable friendly</td>\n",
       "      <td>0</td>\n",
       "      <td>2</td>\n",
       "      <td>2</td>\n",
       "      <td>{'neg': 0.0, 'neu': 0.439, 'pos': 0.561, 'comp...</td>\n",
       "      <td>0.7506</td>\n",
       "      <td>1</td>\n",
       "    </tr>\n",
       "    <tr>\n",
       "      <th>17</th>\n",
       "      <td>4</td>\n",
       "      <td>shes active... she can obey wht command that u...</td>\n",
       "      <td>shes active obey wht command u told example sh...</td>\n",
       "      <td>0</td>\n",
       "      <td>3</td>\n",
       "      <td>3</td>\n",
       "      <td>{'neg': 0.03, 'neu': 0.852, 'pos': 0.118, 'com...</td>\n",
       "      <td>0.7506</td>\n",
       "      <td>1</td>\n",
       "    </tr>\n",
       "    <tr>\n",
       "      <th>18</th>\n",
       "      <td>2</td>\n",
       "      <td>This cutie dumped by it's owner at the market ...</td>\n",
       "      <td>cutie dumped owner market almost kill car kick...</td>\n",
       "      <td>1</td>\n",
       "      <td>3</td>\n",
       "      <td>3</td>\n",
       "      <td>{'neg': 0.078, 'neu': 0.717, 'pos': 0.205, 'co...</td>\n",
       "      <td>0.9658</td>\n",
       "      <td>0</td>\n",
       "    </tr>\n",
       "    <tr>\n",
       "      <th>19</th>\n",
       "      <td>4</td>\n",
       "      <td>Birth Date: Oct 30th Kitty 1, Melly -Female Sa...</td>\n",
       "      <td>birth date oct th kitty melly female sangat co...</td>\n",
       "      <td>0</td>\n",
       "      <td>1</td>\n",
       "      <td>1</td>\n",
       "      <td>{'neg': 0.0, 'neu': 0.779, 'pos': 0.221, 'comp...</td>\n",
       "      <td>0.9728</td>\n",
       "      <td>1</td>\n",
       "    </tr>\n",
       "    <tr>\n",
       "      <th>20</th>\n",
       "      <td>2</td>\n",
       "      <td>Godiva was rescued in Serdang residential area...</td>\n",
       "      <td>godiva rescued serdang residential area group ...</td>\n",
       "      <td>1</td>\n",
       "      <td>2</td>\n",
       "      <td>2</td>\n",
       "      <td>{'neg': 0.0, 'neu': 0.723, 'pos': 0.277, 'comp...</td>\n",
       "      <td>0.9778</td>\n",
       "      <td>0</td>\n",
       "    </tr>\n",
       "    <tr>\n",
       "      <th>21</th>\n",
       "      <td>4</td>\n",
       "      <td>Three puppies abandoned on the street, picked ...</td>\n",
       "      <td>three puppies abandoned street picked fed prop...</td>\n",
       "      <td>0</td>\n",
       "      <td>2</td>\n",
       "      <td>2</td>\n",
       "      <td>{'neg': 0.167, 'neu': 0.667, 'pos': 0.167, 'co...</td>\n",
       "      <td>0.0000</td>\n",
       "      <td>1</td>\n",
       "    </tr>\n",
       "    <tr>\n",
       "      <th>22</th>\n",
       "      <td>4</td>\n",
       "      <td>My cats name is Kenit, Kenot,Owen, Keyad, Manj...</td>\n",
       "      <td>cats name kenit kenot owen keyad manja techit ...</td>\n",
       "      <td>0</td>\n",
       "      <td>3</td>\n",
       "      <td>3</td>\n",
       "      <td>{'neg': 0.0, 'neu': 1.0, 'pos': 0.0, 'compound...</td>\n",
       "      <td>0.0000</td>\n",
       "      <td>1</td>\n",
       "    </tr>\n",
       "    <tr>\n",
       "      <th>23</th>\n",
       "      <td>4</td>\n",
       "      <td>Donut is a friendly doggie and very domesticat...</td>\n",
       "      <td>donut friendly doggie domesticated bark strang...</td>\n",
       "      <td>0</td>\n",
       "      <td>4</td>\n",
       "      <td>4</td>\n",
       "      <td>{'neg': 0.043, 'neu': 0.837, 'pos': 0.12, 'com...</td>\n",
       "      <td>0.6486</td>\n",
       "      <td>1</td>\n",
       "    </tr>\n",
       "    <tr>\n",
       "      <th>24</th>\n",
       "      <td>1</td>\n",
       "      <td>hello cikenets fans, i just wanna inform that ...</td>\n",
       "      <td>hello cikenets fans wanna inform cikenet lost ...</td>\n",
       "      <td>0</td>\n",
       "      <td>3</td>\n",
       "      <td>3</td>\n",
       "      <td>{'neg': 0.0, 'neu': 0.812, 'pos': 0.188, 'comp...</td>\n",
       "      <td>0.8206</td>\n",
       "      <td>0</td>\n",
       "    </tr>\n",
       "  </tbody>\n",
       "</table>\n",
       "</div>"
      ],
      "text/plain": [
       "    AdoptionSpeed                                        Description  \\\n",
       "0               2  Nibble is a 3+ month old ball of cuteness. He ...   \n",
       "1               1  I just found it alone yesterday near my apartm...   \n",
       "2               3  Their pregnant mother was dumped by her irresp...   \n",
       "3               2  Good guard dog, very alert, active, obedience ...   \n",
       "4               2  This handsome yet cute boy is up for adoption....   \n",
       "5               2  This is a stray kitten that came to my house. ...   \n",
       "6               1  anyone within the area of ipoh or taiping who ...   \n",
       "7               3  Siu Pak just give birth on 13/6/10 to 6puppies...   \n",
       "8               1  healthy and active, feisty kitten found in nei...   \n",
       "9               4  Very manja and gentle stray cat found, we woul...   \n",
       "10              1  For serious adopter, please do sms or call for...   \n",
       "11              1  Kali is a super playful kitten who is on the g...   \n",
       "12              2  Peanut was an abused puppy until he was rescue...   \n",
       "13              1  Hi Pet Lovers! This is my first posting and I ...   \n",
       "14              2  Lost Dog Found (Bandar Menjalara, Kepong／Taman...   \n",
       "15              4  We moved out of our apartment to a landed home...   \n",
       "16              3            to be spayed on /12 adorable & friendly   \n",
       "17              4  shes active... she can obey wht command that u...   \n",
       "18              2  This cutie dumped by it's owner at the market ...   \n",
       "19              4  Birth Date: Oct 30th Kitty 1, Melly -Female Sa...   \n",
       "20              2  Godiva was rescued in Serdang residential area...   \n",
       "21              4  Three puppies abandoned on the street, picked ...   \n",
       "22              4  My cats name is Kenit, Kenot,Owen, Keyad, Manj...   \n",
       "23              4  Donut is a friendly doggie and very domesticat...   \n",
       "24              1  hello cikenets fans, i just wanna inform that ...   \n",
       "\n",
       "                                                clean  cluster  Topic  \\\n",
       "0   nibble month old ball cuteness energetic playf...        0      0   \n",
       "1   found alone yesterday near apartment shaking b...        0      3   \n",
       "2   pregnant mother dumped irresponsible owner roa...        1      2   \n",
       "3   good guard dog alert active obedience waiting ...        0      4   \n",
       "4   handsome yet cute boy adoption playful pal see...        1      2   \n",
       "5         stray kitten came house feeding cannot keep        0      3   \n",
       "6   anyone within area ipoh taiping interested ado...        0      3   \n",
       "7   siu pak give birth puppies interested pls call...        0      2   \n",
       "8   healthy active feisty kitten found neighbours ...        0      3   \n",
       "9   manja gentle stray cat found would really like...        1      3   \n",
       "10     serious adopter please sms call details thanks        0      2   \n",
       "11  kali super playful kitten go minute wakes quie...        1      0   \n",
       "12  peanut abused puppy rescued scared people happ...        1      2   \n",
       "13  hi pet lovers first posting need help months a...        3      3   \n",
       "14  lost dog found bandar menjalara kepong taman b...        1      2   \n",
       "15  moved apartment landed home many friendly stra...        1      4   \n",
       "16                           spayed adorable friendly        0      2   \n",
       "17  shes active obey wht command u told example sh...        0      3   \n",
       "18  cutie dumped owner market almost kill car kick...        1      3   \n",
       "19  birth date oct th kitty melly female sangat co...        0      1   \n",
       "20  godiva rescued serdang residential area group ...        1      2   \n",
       "21  three puppies abandoned street picked fed prop...        0      2   \n",
       "22  cats name kenit kenot owen keyad manja techit ...        0      3   \n",
       "23  donut friendly doggie domesticated bark strang...        0      4   \n",
       "24  hello cikenets fans wanna inform cikenet lost ...        0      3   \n",
       "\n",
       "    Topic NMF                                             scores  compound  \\\n",
       "0           0  {'neg': 0.0, 'neu': 0.745, 'pos': 0.255, 'comp...    0.9552   \n",
       "1           3  {'neg': 0.149, 'neu': 0.723, 'pos': 0.129, 'co...    0.1280   \n",
       "2           2  {'neg': 0.095, 'neu': 0.706, 'pos': 0.2, 'comp...    0.7650   \n",
       "3           4  {'neg': 0.0, 'neu': 0.483, 'pos': 0.517, 'comp...    0.9538   \n",
       "4           2  {'neg': 0.0, 'neu': 0.635, 'pos': 0.365, 'comp...    0.9880   \n",
       "5           3  {'neg': 0.0, 'neu': 1.0, 'pos': 0.0, 'compound...    0.0000   \n",
       "6           3  {'neg': 0.0, 'neu': 0.814, 'pos': 0.186, 'comp...    0.9116   \n",
       "7           2  {'neg': 0.0, 'neu': 0.818, 'pos': 0.182, 'comp...    0.4588   \n",
       "8           3  {'neg': 0.113, 'neu': 0.576, 'pos': 0.311, 'co...    0.5327   \n",
       "9           3  {'neg': 0.0, 'neu': 0.751, 'pos': 0.249, 'comp...    0.8916   \n",
       "10          2  {'neg': 0.081, 'neu': 0.56, 'pos': 0.359, 'com...    0.6673   \n",
       "11          0  {'neg': 0.042, 'neu': 0.784, 'pos': 0.174, 'co...    0.9552   \n",
       "12          2  {'neg': 0.063, 'neu': 0.582, 'pos': 0.355, 'co...    0.9702   \n",
       "13          3  {'neg': 0.0, 'neu': 0.771, 'pos': 0.229, 'comp...    0.9759   \n",
       "14          2  {'neg': 0.149, 'neu': 0.779, 'pos': 0.073, 'co...   -0.5938   \n",
       "15          4  {'neg': 0.03, 'neu': 0.781, 'pos': 0.19, 'comp...    0.8979   \n",
       "16          2  {'neg': 0.0, 'neu': 0.439, 'pos': 0.561, 'comp...    0.7506   \n",
       "17          3  {'neg': 0.03, 'neu': 0.852, 'pos': 0.118, 'com...    0.7506   \n",
       "18          3  {'neg': 0.078, 'neu': 0.717, 'pos': 0.205, 'co...    0.9658   \n",
       "19          1  {'neg': 0.0, 'neu': 0.779, 'pos': 0.221, 'comp...    0.9728   \n",
       "20          2  {'neg': 0.0, 'neu': 0.723, 'pos': 0.277, 'comp...    0.9778   \n",
       "21          2  {'neg': 0.167, 'neu': 0.667, 'pos': 0.167, 'co...    0.0000   \n",
       "22          3  {'neg': 0.0, 'neu': 1.0, 'pos': 0.0, 'compound...    0.0000   \n",
       "23          4  {'neg': 0.043, 'neu': 0.837, 'pos': 0.12, 'com...    0.6486   \n",
       "24          3  {'neg': 0.0, 'neu': 0.812, 'pos': 0.188, 'comp...    0.8206   \n",
       "\n",
       "    binary  \n",
       "0        0  \n",
       "1        0  \n",
       "2        1  \n",
       "3        0  \n",
       "4        0  \n",
       "5        0  \n",
       "6        0  \n",
       "7        1  \n",
       "8        0  \n",
       "9        1  \n",
       "10       0  \n",
       "11       0  \n",
       "12       0  \n",
       "13       0  \n",
       "14       0  \n",
       "15       1  \n",
       "16       1  \n",
       "17       1  \n",
       "18       0  \n",
       "19       1  \n",
       "20       0  \n",
       "21       1  \n",
       "22       1  \n",
       "23       1  \n",
       "24       0  "
      ]
     },
     "execution_count": 105,
     "metadata": {},
     "output_type": "execute_result"
    }
   ],
   "source": [
    "df_text.head(25)"
   ]
  },
  {
   "cell_type": "code",
   "execution_count": 52,
   "metadata": {},
   "outputs": [],
   "source": [
    "X = np.array(df_text[['compound']])\n",
    "y = df_text.iloc[:,0].values\n",
    "X_train, X_test, y_train, y_test = train_test_split(X,y,test_size=0.25)"
   ]
  },
  {
   "cell_type": "code",
   "execution_count": 53,
   "metadata": {},
   "outputs": [
    {
     "data": {
      "text/plain": [
       "0.28052364413572"
      ]
     },
     "execution_count": 53,
     "metadata": {},
     "output_type": "execute_result"
    }
   ],
   "source": [
    "rfc.fit(X_train, y_train)\n",
    "y_pred = rfc.predict(X_test)\n",
    "rfc.score(X_test, y_test)"
   ]
  },
  {
   "cell_type": "code",
   "execution_count": 54,
   "metadata": {},
   "outputs": [
    {
     "data": {
      "text/plain": [
       "0.279722148009618"
      ]
     },
     "execution_count": 54,
     "metadata": {},
     "output_type": "execute_result"
    }
   ],
   "source": [
    "from xgboost import XGBClassifier\n",
    "xgb = XGBClassifier()\n",
    "xgb.fit(X_train,y_train)\n",
    "y_pred = xgb.predict(X_test)\n",
    "xgb.score(X_test, y_test)"
   ]
  },
  {
   "cell_type": "markdown",
   "metadata": {},
   "source": [
    "### Try converting to binary:"
   ]
  },
  {
   "cell_type": "code",
   "execution_count": 55,
   "metadata": {},
   "outputs": [],
   "source": [
    "df_text['binary']= np.where(df_text.AdoptionSpeed<3, 0, 1)"
   ]
  },
  {
   "cell_type": "code",
   "execution_count": 56,
   "metadata": {},
   "outputs": [
    {
     "data": {
      "text/plain": [
       "0    7527\n",
       "1    7442\n",
       "Name: binary, dtype: int64"
      ]
     },
     "execution_count": 56,
     "metadata": {},
     "output_type": "execute_result"
    }
   ],
   "source": [
    "df_text['binary'].value_counts()"
   ]
  },
  {
   "cell_type": "code",
   "execution_count": 57,
   "metadata": {},
   "outputs": [],
   "source": [
    "# Set up BOW\n",
    "y_bow_bin = df_text['binary'].values\n",
    "X_train_bow_bin, X_test_bow_bin, y_train_bow_bin, y_test_bow_bin = train_test_split(X_bow,y_bow_bin,test_size=0.25)"
   ]
  },
  {
   "cell_type": "code",
   "execution_count": 58,
   "metadata": {},
   "outputs": [
    {
     "name": "stdout",
     "output_type": "stream",
     "text": [
      "0.5076142131979695\n",
      "[[1083 1036]\n",
      " [ 807  817]]\n"
     ]
    }
   ],
   "source": [
    "rfc.fit(X_train_bow_bin, y_train_bow_bin)\n",
    "y_pred = rfc.predict(X_test_bow_bin)\n",
    "print(rfc.score(X_test_bow_bin, y_test_bow_bin))\n",
    "print(confusion_matrix(y_pred,y_test_bow_bin))"
   ]
  },
  {
   "cell_type": "code",
   "execution_count": 60,
   "metadata": {},
   "outputs": [
    {
     "name": "stderr",
     "output_type": "stream",
     "text": [
      "C:\\Users\\julia\\Anaconda3\\lib\\site-packages\\sklearn\\linear_model\\logistic.py:432: FutureWarning: Default solver will be changed to 'lbfgs' in 0.22. Specify a solver to silence this warning.\n",
      "  FutureWarning)\n"
     ]
    },
    {
     "name": "stdout",
     "output_type": "stream",
     "text": [
      "0.49585893668180603\n",
      "[[967 964]\n",
      " [923 889]]\n"
     ]
    }
   ],
   "source": [
    "lr = LogisticRegression()\n",
    "lr.fit(X_train_bow_bin,y_train_bow_bin)\n",
    "pred_lasso = lr.predict(X_test_bow_bin)\n",
    "y_pred = lr.predict(X_test_bow_bin)\n",
    "print(lr.score(X_test_bow_bin, y_test_bow_bin))\n",
    "print(confusion_matrix(y_pred,y_test_bow_bin))"
   ]
  },
  {
   "cell_type": "code",
   "execution_count": 61,
   "metadata": {},
   "outputs": [
    {
     "data": {
      "text/plain": [
       "0.499599251936949"
      ]
     },
     "execution_count": 61,
     "metadata": {},
     "output_type": "execute_result"
    }
   ],
   "source": [
    "from xgboost import XGBClassifier\n",
    "xgb = XGBClassifier()\n",
    "xgb.fit(X_train_bow_bin,y_train_bow_bin)\n",
    "y_pred = xgb.predict(X_test_bow_bin)\n",
    "xgb.score(X_test_bow_bin, y_test_bow_bin)"
   ]
  },
  {
   "cell_type": "markdown",
   "metadata": {},
   "source": [
    "### Try to correlate words with age using puppy, kitten, and young"
   ]
  },
  {
   "cell_type": "code",
   "execution_count": 71,
   "metadata": {},
   "outputs": [],
   "source": [
    "cv = CountVectorizer(max_features=2000,tokenizer = spacy_tokenizer, ngram_range=(1,1))\n",
    "X_bow = cv.fit_transform(df_text['clean']).toarray()\n",
    "\n",
    "data_dtm = pd.DataFrame(X_bow, columns=cv.get_feature_names())\n",
    "data_dtm.index = df_text.index"
   ]
  },
  {
   "cell_type": "code",
   "execution_count": 72,
   "metadata": {},
   "outputs": [
    {
     "data": {
      "text/html": [
       "<div>\n",
       "<style scoped>\n",
       "    .dataframe tbody tr th:only-of-type {\n",
       "        vertical-align: middle;\n",
       "    }\n",
       "\n",
       "    .dataframe tbody tr th {\n",
       "        vertical-align: top;\n",
       "    }\n",
       "\n",
       "    .dataframe thead th {\n",
       "        text-align: right;\n",
       "    }\n",
       "</style>\n",
       "<table border=\"1\" class=\"dataframe\">\n",
       "  <thead>\n",
       "    <tr style=\"text-align: right;\">\n",
       "      <th></th>\n",
       "      <th>2</th>\n",
       "      <th>3</th>\n",
       "      <th>abandon</th>\n",
       "      <th>abit</th>\n",
       "      <th>able</th>\n",
       "      <th>absolutely</th>\n",
       "      <th>abt</th>\n",
       "      <th>abuse</th>\n",
       "      <th>accept</th>\n",
       "      <th>accident</th>\n",
       "      <th>...</th>\n",
       "      <th>year</th>\n",
       "      <th>yearly</th>\n",
       "      <th>yellow</th>\n",
       "      <th>yes</th>\n",
       "      <th>yesterday</th>\n",
       "      <th>yg</th>\n",
       "      <th>yo</th>\n",
       "      <th>young</th>\n",
       "      <th>yr</th>\n",
       "      <th>﻿1</th>\n",
       "    </tr>\n",
       "  </thead>\n",
       "  <tbody>\n",
       "    <tr>\n",
       "      <th>0</th>\n",
       "      <td>0</td>\n",
       "      <td>0</td>\n",
       "      <td>0</td>\n",
       "      <td>0</td>\n",
       "      <td>0</td>\n",
       "      <td>0</td>\n",
       "      <td>0</td>\n",
       "      <td>0</td>\n",
       "      <td>0</td>\n",
       "      <td>0</td>\n",
       "      <td>...</td>\n",
       "      <td>0</td>\n",
       "      <td>0</td>\n",
       "      <td>0</td>\n",
       "      <td>0</td>\n",
       "      <td>0</td>\n",
       "      <td>0</td>\n",
       "      <td>0</td>\n",
       "      <td>0</td>\n",
       "      <td>0</td>\n",
       "      <td>0</td>\n",
       "    </tr>\n",
       "    <tr>\n",
       "      <th>1</th>\n",
       "      <td>0</td>\n",
       "      <td>0</td>\n",
       "      <td>0</td>\n",
       "      <td>0</td>\n",
       "      <td>0</td>\n",
       "      <td>0</td>\n",
       "      <td>0</td>\n",
       "      <td>0</td>\n",
       "      <td>0</td>\n",
       "      <td>0</td>\n",
       "      <td>...</td>\n",
       "      <td>0</td>\n",
       "      <td>0</td>\n",
       "      <td>0</td>\n",
       "      <td>0</td>\n",
       "      <td>1</td>\n",
       "      <td>0</td>\n",
       "      <td>0</td>\n",
       "      <td>0</td>\n",
       "      <td>0</td>\n",
       "      <td>0</td>\n",
       "    </tr>\n",
       "    <tr>\n",
       "      <th>2</th>\n",
       "      <td>0</td>\n",
       "      <td>0</td>\n",
       "      <td>0</td>\n",
       "      <td>0</td>\n",
       "      <td>0</td>\n",
       "      <td>0</td>\n",
       "      <td>0</td>\n",
       "      <td>0</td>\n",
       "      <td>0</td>\n",
       "      <td>0</td>\n",
       "      <td>...</td>\n",
       "      <td>0</td>\n",
       "      <td>0</td>\n",
       "      <td>0</td>\n",
       "      <td>0</td>\n",
       "      <td>0</td>\n",
       "      <td>0</td>\n",
       "      <td>0</td>\n",
       "      <td>0</td>\n",
       "      <td>0</td>\n",
       "      <td>0</td>\n",
       "    </tr>\n",
       "    <tr>\n",
       "      <th>3</th>\n",
       "      <td>0</td>\n",
       "      <td>0</td>\n",
       "      <td>0</td>\n",
       "      <td>0</td>\n",
       "      <td>0</td>\n",
       "      <td>0</td>\n",
       "      <td>0</td>\n",
       "      <td>0</td>\n",
       "      <td>0</td>\n",
       "      <td>0</td>\n",
       "      <td>...</td>\n",
       "      <td>0</td>\n",
       "      <td>0</td>\n",
       "      <td>0</td>\n",
       "      <td>0</td>\n",
       "      <td>0</td>\n",
       "      <td>0</td>\n",
       "      <td>0</td>\n",
       "      <td>0</td>\n",
       "      <td>0</td>\n",
       "      <td>0</td>\n",
       "    </tr>\n",
       "    <tr>\n",
       "      <th>4</th>\n",
       "      <td>0</td>\n",
       "      <td>0</td>\n",
       "      <td>0</td>\n",
       "      <td>0</td>\n",
       "      <td>0</td>\n",
       "      <td>0</td>\n",
       "      <td>0</td>\n",
       "      <td>0</td>\n",
       "      <td>0</td>\n",
       "      <td>0</td>\n",
       "      <td>...</td>\n",
       "      <td>0</td>\n",
       "      <td>0</td>\n",
       "      <td>0</td>\n",
       "      <td>0</td>\n",
       "      <td>0</td>\n",
       "      <td>0</td>\n",
       "      <td>0</td>\n",
       "      <td>1</td>\n",
       "      <td>0</td>\n",
       "      <td>0</td>\n",
       "    </tr>\n",
       "  </tbody>\n",
       "</table>\n",
       "<p>5 rows × 2000 columns</p>\n",
       "</div>"
      ],
      "text/plain": [
       "   2  3  abandon  abit  able  absolutely  abt  abuse  accept  accident  ...  \\\n",
       "0  0  0        0     0     0           0    0      0       0         0  ...   \n",
       "1  0  0        0     0     0           0    0      0       0         0  ...   \n",
       "2  0  0        0     0     0           0    0      0       0         0  ...   \n",
       "3  0  0        0     0     0           0    0      0       0         0  ...   \n",
       "4  0  0        0     0     0           0    0      0       0         0  ...   \n",
       "\n",
       "   year  yearly  yellow  yes  yesterday  yg  yo  young  yr  ﻿1  \n",
       "0     0       0       0    0          0   0   0      0   0   0  \n",
       "1     0       0       0    0          1   0   0      0   0   0  \n",
       "2     0       0       0    0          0   0   0      0   0   0  \n",
       "3     0       0       0    0          0   0   0      0   0   0  \n",
       "4     0       0       0    0          0   0   0      1   0   0  \n",
       "\n",
       "[5 rows x 2000 columns]"
      ]
     },
     "execution_count": 72,
     "metadata": {},
     "output_type": "execute_result"
    }
   ],
   "source": [
    "data_dtm.head()"
   ]
  },
  {
   "cell_type": "code",
   "execution_count": 73,
   "metadata": {},
   "outputs": [],
   "source": [
    "cols=cv.get_feature_names()"
   ]
  },
  {
   "cell_type": "code",
   "execution_count": 75,
   "metadata": {},
   "outputs": [],
   "source": [
    "age_cols = data_dtm[['kitten','puppy','young']]"
   ]
  },
  {
   "cell_type": "code",
   "execution_count": 76,
   "metadata": {},
   "outputs": [
    {
     "name": "stderr",
     "output_type": "stream",
     "text": [
      "C:\\Users\\julia\\Anaconda3\\lib\\site-packages\\ipykernel_launcher.py:1: SettingWithCopyWarning: \n",
      "A value is trying to be set on a copy of a slice from a DataFrame.\n",
      "Try using .loc[row_indexer,col_indexer] = value instead\n",
      "\n",
      "See the caveats in the documentation: http://pandas.pydata.org/pandas-docs/stable/indexing.html#indexing-view-versus-copy\n",
      "  \"\"\"Entry point for launching an IPython kernel.\n"
     ]
    }
   ],
   "source": [
    "age_cols['Age']=df_all['Age'].copy()"
   ]
  },
  {
   "cell_type": "code",
   "execution_count": 77,
   "metadata": {},
   "outputs": [
    {
     "data": {
      "text/html": [
       "<div>\n",
       "<style scoped>\n",
       "    .dataframe tbody tr th:only-of-type {\n",
       "        vertical-align: middle;\n",
       "    }\n",
       "\n",
       "    .dataframe tbody tr th {\n",
       "        vertical-align: top;\n",
       "    }\n",
       "\n",
       "    .dataframe thead th {\n",
       "        text-align: right;\n",
       "    }\n",
       "</style>\n",
       "<table border=\"1\" class=\"dataframe\">\n",
       "  <thead>\n",
       "    <tr style=\"text-align: right;\">\n",
       "      <th></th>\n",
       "      <th>kitten</th>\n",
       "      <th>puppy</th>\n",
       "      <th>young</th>\n",
       "      <th>Age</th>\n",
       "    </tr>\n",
       "  </thead>\n",
       "  <tbody>\n",
       "    <tr>\n",
       "      <th>0</th>\n",
       "      <td>0</td>\n",
       "      <td>0</td>\n",
       "      <td>0</td>\n",
       "      <td>3</td>\n",
       "    </tr>\n",
       "    <tr>\n",
       "      <th>1</th>\n",
       "      <td>0</td>\n",
       "      <td>0</td>\n",
       "      <td>0</td>\n",
       "      <td>1</td>\n",
       "    </tr>\n",
       "    <tr>\n",
       "      <th>2</th>\n",
       "      <td>0</td>\n",
       "      <td>1</td>\n",
       "      <td>0</td>\n",
       "      <td>1</td>\n",
       "    </tr>\n",
       "    <tr>\n",
       "      <th>3</th>\n",
       "      <td>0</td>\n",
       "      <td>0</td>\n",
       "      <td>0</td>\n",
       "      <td>4</td>\n",
       "    </tr>\n",
       "    <tr>\n",
       "      <th>4</th>\n",
       "      <td>0</td>\n",
       "      <td>1</td>\n",
       "      <td>1</td>\n",
       "      <td>1</td>\n",
       "    </tr>\n",
       "  </tbody>\n",
       "</table>\n",
       "</div>"
      ],
      "text/plain": [
       "   kitten  puppy  young  Age\n",
       "0       0      0      0    3\n",
       "1       0      0      0    1\n",
       "2       0      1      0    1\n",
       "3       0      0      0    4\n",
       "4       0      1      1    1"
      ]
     },
     "execution_count": 77,
     "metadata": {},
     "output_type": "execute_result"
    }
   ],
   "source": [
    "age_cols.head()"
   ]
  },
  {
   "cell_type": "code",
   "execution_count": 78,
   "metadata": {},
   "outputs": [],
   "source": [
    "from sklearn.linear_model import LinearRegression\n",
    "X=age_cols.drop('Age',1)\n",
    "y=age_cols['Age'].values"
   ]
  },
  {
   "cell_type": "code",
   "execution_count": 79,
   "metadata": {},
   "outputs": [
    {
     "data": {
      "text/plain": [
       "LinearRegression(copy_X=True, fit_intercept=True, n_jobs=None, normalize=False)"
      ]
     },
     "execution_count": 79,
     "metadata": {},
     "output_type": "execute_result"
    }
   ],
   "source": [
    "lin = LinearRegression()\n",
    "lin.fit(X, y)\n"
   ]
  },
  {
   "cell_type": "code",
   "execution_count": 80,
   "metadata": {},
   "outputs": [
    {
     "data": {
      "text/plain": [
       "0.0001904137872689171"
      ]
     },
     "execution_count": 80,
     "metadata": {},
     "output_type": "execute_result"
    }
   ],
   "source": [
    "lin.score(X, y)"
   ]
  },
  {
   "cell_type": "code",
   "execution_count": 81,
   "metadata": {},
   "outputs": [
    {
     "data": {
      "text/plain": [
       "<matplotlib.axes._subplots.AxesSubplot at 0x2043d185a58>"
      ]
     },
     "execution_count": 81,
     "metadata": {},
     "output_type": "execute_result"
    },
    {
     "data": {
      "image/png": "[encoded data removed]",
      "text/plain": [
       "<Figure size 432x288 with 2 Axes>"
      ]
     },
     "metadata": {
      "needs_background": "light"
     },
     "output_type": "display_data"
    }
   ],
   "source": [
    "corr_mat = age_cols.corr()\n",
    "sns.heatmap(age_cols)"
   ]
  },
  {
   "cell_type": "code",
   "execution_count": 83,
   "metadata": {},
   "outputs": [
    {
     "data": {
      "text/plain": [
       "0.28766116641058187"
      ]
     },
     "execution_count": 83,
     "metadata": {},
     "output_type": "execute_result"
    }
   ],
   "source": [
    "X=age_cols.drop('Age',1)\n",
    "y=df_text['AdoptionSpeed'].values\n",
    "rfc.fit(X, y)\n",
    "rfc.score(X, y)"
   ]
  },
  {
   "cell_type": "markdown",
   "metadata": {},
   "source": [
    "### Hyperparameter tuning"
   ]
  },
  {
   "cell_type": "code",
   "execution_count": 93,
   "metadata": {},
   "outputs": [],
   "source": [
    "vectorizer = TfidfVectorizer(max_features=2000,tokenizer = spacy_tokenizer, ngram_range=(1,1))\n",
    "test_df = df_text[:5000].copy()\n",
    "X_tfidf=vectorizer.fit_transform(test_df['clean'])\n",
    "y=test_df.iloc[:,0].values\n",
    "X_train_tfidf, X_test_tfidf, y_train_tfidf, y_test_tfidf = train_test_split(X_tfidf,y,test_size=0.25)"
   ]
  },
  {
   "cell_type": "code",
   "execution_count": 94,
   "metadata": {},
   "outputs": [
    {
     "data": {
      "text/plain": [
       "0.244"
      ]
     },
     "execution_count": 94,
     "metadata": {},
     "output_type": "execute_result"
    }
   ],
   "source": [
    "rfc.fit(X_train_tfidf, y_train_tfidf)\n",
    "rfc.score(X_test_tfidf, y_test_tfidf)"
   ]
  },
  {
   "cell_type": "code",
   "execution_count": 95,
   "metadata": {},
   "outputs": [
    {
     "data": {
      "text/plain": [
       "0.2608"
      ]
     },
     "execution_count": 95,
     "metadata": {},
     "output_type": "execute_result"
    }
   ],
   "source": [
    "# Test ngrams\n",
    "\n",
    "vectorizer = TfidfVectorizer(max_features=2000,tokenizer = spacy_tokenizer, ngram_range=(1,2))\n",
    "X_tfidf=vectorizer.fit_transform(test_df['clean'])\n",
    "y=test_df.iloc[:,0].values\n",
    "X_train_tfidf, X_test_tfidf, y_train_tfidf, y_test_tfidf = train_test_split(X_tfidf,y,test_size=0.25)\n",
    "\n",
    "rfc.fit(X_train_tfidf, y_train_tfidf)\n",
    "rfc.score(X_test_tfidf, y_test_tfidf)"
   ]
  },
  {
   "cell_type": "code",
   "execution_count": 98,
   "metadata": {},
   "outputs": [
    {
     "data": {
      "text/plain": [
       "0.26"
      ]
     },
     "execution_count": 98,
     "metadata": {},
     "output_type": "execute_result"
    }
   ],
   "source": [
    "vectorizer = TfidfVectorizer(max_features=2000,tokenizer = spacy_tokenizer, ngram_range=(1,3))\n",
    "test_df = df_text[:5000].copy()\n",
    "X_tfidf=vectorizer.fit_transform(test_df['clean'])\n",
    "y=test_df.iloc[:,0].values\n",
    "X_train_tfidf, X_test_tfidf, y_train_tfidf, y_test_tfidf = train_test_split(X_tfidf,y,test_size=0.25)\n",
    "\n",
    "rfc.fit(X_train_tfidf, y_train_tfidf)\n",
    "rfc.score(X_test_tfidf, y_test_tfidf)"
   ]
  },
  {
   "cell_type": "code",
   "execution_count": 99,
   "metadata": {},
   "outputs": [
    {
     "data": {
      "text/plain": [
       "0.2544"
      ]
     },
     "execution_count": 99,
     "metadata": {},
     "output_type": "execute_result"
    }
   ],
   "source": [
    "# Vary max_features\n",
    "vectorizer = TfidfVectorizer(max_features=3000,tokenizer = spacy_tokenizer, ngram_range=(1,2))\n",
    "X_tfidf=vectorizer.fit_transform(test_df['clean'])\n",
    "y=test_df.iloc[:,0].values\n",
    "X_train_tfidf, X_test_tfidf, y_train_tfidf, y_test_tfidf = train_test_split(X_tfidf,y,test_size=0.25)\n",
    "\n",
    "rfc.fit(X_train_tfidf, y_train_tfidf)\n",
    "rfc.score(X_test_tfidf, y_test_tfidf)"
   ]
  },
  {
   "cell_type": "code",
   "execution_count": 100,
   "metadata": {},
   "outputs": [
    {
     "data": {
      "text/plain": [
       "0.284"
      ]
     },
     "execution_count": 100,
     "metadata": {},
     "output_type": "execute_result"
    }
   ],
   "source": [
    "# Vary max_features\n",
    "vectorizer = TfidfVectorizer(max_features=1000,tokenizer = spacy_tokenizer, ngram_range=(1,2))\n",
    "X_tfidf=vectorizer.fit_transform(test_df['clean'])\n",
    "y=test_df.iloc[:,0].values\n",
    "X_train_tfidf, X_test_tfidf, y_train_tfidf, y_test_tfidf = train_test_split(X_tfidf,y,test_size=0.25)\n",
    "\n",
    "rfc.fit(X_train_tfidf, y_train_tfidf)\n",
    "rfc.score(X_test_tfidf, y_test_tfidf)"
   ]
  },
  {
   "cell_type": "code",
   "execution_count": 101,
   "metadata": {},
   "outputs": [
    {
     "data": {
      "text/plain": [
       "0.2352"
      ]
     },
     "execution_count": 101,
     "metadata": {},
     "output_type": "execute_result"
    }
   ],
   "source": [
    "# Vary max_features\n",
    "vectorizer = TfidfVectorizer(max_features=500,tokenizer = spacy_tokenizer, ngram_range=(1,2))\n",
    "X_tfidf=vectorizer.fit_transform(test_df['clean'])\n",
    "y=test_df.iloc[:,0].values\n",
    "X_train_tfidf, X_test_tfidf, y_train_tfidf, y_test_tfidf = train_test_split(X_tfidf,y,test_size=0.25)\n",
    "\n",
    "rfc.fit(X_train_tfidf, y_train_tfidf)\n",
    "rfc.score(X_test_tfidf, y_test_tfidf)"
   ]
  },
  {
   "cell_type": "code",
   "execution_count": 102,
   "metadata": {},
   "outputs": [
    {
     "name": "stderr",
     "output_type": "stream",
     "text": [
      "C:\\Users\\julia\\Anaconda3\\lib\\site-packages\\sklearn\\feature_extraction\\text.py:300: UserWarning: Your stop_words may be inconsistent with your preprocessing. Tokenizing the stop words generated tokens ['3', 'far', 'good', 'little', '\\ufeff1'] not in stop_words.\n",
      "  'stop_words.' % sorted(inconsistent))\n"
     ]
    },
    {
     "data": {
      "text/plain": [
       "0.2592"
      ]
     },
     "execution_count": 102,
     "metadata": {},
     "output_type": "execute_result"
    }
   ],
   "source": [
    "# Change stop words  \n",
    "vectorizer = TfidfVectorizer(max_features=1000,tokenizer = spacy_tokenizer, ngram_range=(1,2), stop_words=\"english\")\n",
    "X_tfidf=vectorizer.fit_transform(test_df['clean'])\n",
    "y=test_df.iloc[:,0].values\n",
    "X_train_tfidf, X_test_tfidf, y_train_tfidf, y_test_tfidf = train_test_split(X_tfidf,y,test_size=0.25)\n",
    "\n",
    "rfc.fit(X_train_tfidf, y_train_tfidf)\n",
    "rfc.score(X_test_tfidf, y_test_tfidf)"
   ]
  },
  {
   "cell_type": "code",
   "execution_count": 104,
   "metadata": {},
   "outputs": [
    {
     "data": {
      "text/plain": [
       "0.26342506011220945"
      ]
     },
     "execution_count": 104,
     "metadata": {},
     "output_type": "execute_result"
    }
   ],
   "source": [
    "# Try best parameters on entire dataset\n",
    "vectorizer = TfidfVectorizer(max_features=1000,tokenizer = spacy_tokenizer, ngram_range=(1,2))\n",
    "X_tfidf=vectorizer.fit_transform(df_text['clean'])\n",
    "y=df_text.iloc[:,0].values\n",
    "X_train_tfidf, X_test_tfidf, y_train_tfidf, y_test_tfidf = train_test_split(X_tfidf,y,test_size=0.25)\n",
    "\n",
    "rfc.fit(X_train_tfidf, y_train_tfidf)\n",
    "rfc.score(X_test_tfidf, y_test_tfidf)"
   ]
  },
  {
   "cell_type": "code",
   "execution_count": 84,
   "metadata": {},
   "outputs": [],
   "source": [
    "df_1=df_text[df_text['AdoptionSpeed']==1].copy()\n",
    "df_2=df_text[df_text['AdoptionSpeed']==2].copy()\n",
    "df_3=df_text[df_text['AdoptionSpeed']==3].copy()\n",
    "df_4=df_text[df_text['AdoptionSpeed']==4].copy()\n",
    "\n",
    "df_1.dropna(inplace=True)\n",
    "df_2.dropna(inplace=True)\n",
    "df_3.dropna(inplace=True)\n",
    "df_4.dropna(inplace=True)"
   ]
  },
  {
   "cell_type": "code",
   "execution_count": 85,
   "metadata": {},
   "outputs": [],
   "source": [
    "cv = CountVectorizer(stop_words='english',max_features=100)\n",
    "data_cv_1 = cv.fit_transform(df_1.clean)\n",
    "data_dtm_1 = pd.DataFrame(data_cv_1.toarray(), columns=cv.get_feature_names())\n",
    "data_dtm_1.index = df_1.index\n",
    "\n",
    "cv = CountVectorizer(stop_words='english',max_features=100)\n",
    "data_cv_2 = cv.fit_transform(df_2.clean)\n",
    "data_dtm_2 = pd.DataFrame(data_cv_2.toarray(), columns=cv.get_feature_names())\n",
    "data_dtm_2.index = df_2.index\n",
    "\n",
    "cv = CountVectorizer(stop_words='english',max_features=100)\n",
    "data_cv_3 = cv.fit_transform(df_3.clean)\n",
    "data_dtm_3 = pd.DataFrame(data_cv_3.toarray(), columns=cv.get_feature_names())\n",
    "data_dtm_3.index = df_3.index\n",
    "\n",
    "cv = CountVectorizer(stop_words='english',max_features=100)\n",
    "data_cv_4 = cv.fit_transform(df_4.clean)\n",
    "data_dtm_4 = pd.DataFrame(data_cv_4.toarray(), columns=cv.get_feature_names())\n",
    "data_dtm_4.index = df_4.index\n"
   ]
  },
  {
   "cell_type": "code",
   "execution_count": 86,
   "metadata": {},
   "outputs": [],
   "source": [
    "top1 = data_dtm_1.sum().sort_values(ascending=False).head(25)\n",
    "top2 = data_dtm_2.sum().sort_values(ascending=False).head(25)\n",
    "top3 = data_dtm_3.sum().sort_values(ascending=False).head(25)\n",
    "top4 = data_dtm_4.sum().sort_values(ascending=False).head(25)"
   ]
  },
  {
   "cell_type": "code",
   "execution_count": 87,
   "metadata": {},
   "outputs": [],
   "source": [
    "top_words1 = list(top1.index)\n",
    "top_words2 = list(top2.index)\n",
    "top_words3 =list(top3.index)\n",
    "top_words4 = list(top4.index)"
   ]
  },
  {
   "cell_type": "code",
   "execution_count": 88,
   "metadata": {},
   "outputs": [
    {
     "data": {
      "image/png": "[encoded data removed]",
      "text/plain": [
       "<Figure size 432x288 with 1 Axes>"
      ]
     },
     "metadata": {
      "needs_background": "light"
     },
     "output_type": "display_data"
    }
   ],
   "source": [
    "sns.barplot(x=top_words1,y=top1)\n",
    "plt.xticks(rotation='vertical')\n",
    "plt.show()"
   ]
  },
  {
   "cell_type": "code",
   "execution_count": 89,
   "metadata": {},
   "outputs": [
    {
     "data": {
      "image/png": "[encoded data removed]",
      "text/plain": [
       "<Figure size 432x288 with 1 Axes>"
      ]
     },
     "metadata": {
      "needs_background": "light"
     },
     "output_type": "display_data"
    }
   ],
   "source": [
    "sns.barplot(x=top_words2,y=top2)\n",
    "plt.xticks(rotation='vertical')\n",
    "plt.show()"
   ]
  },
  {
   "cell_type": "code",
   "execution_count": 90,
   "metadata": {},
   "outputs": [
    {
     "data": {
      "image/png": "[encoded data removed]",
      "text/plain": [
       "<Figure size 432x288 with 1 Axes>"
      ]
     },
     "metadata": {
      "needs_background": "light"
     },
     "output_type": "display_data"
    }
   ],
   "source": [
    "sns.barplot(x=top_words3,y=top3)\n",
    "plt.xticks(rotation='vertical')\n",
    "plt.show()"
   ]
  },
  {
   "cell_type": "code",
   "execution_count": 91,
   "metadata": {},
   "outputs": [
    {
     "data": {
      "image/png": "[encoded data removed]",
      "text/plain": [
       "<Figure size 432x288 with 1 Axes>"
      ]
     },
     "metadata": {
      "needs_background": "light"
     },
     "output_type": "display_data"
    }
   ],
   "source": [
    "sns.barplot(x=top_words4,y=top4)\n",
    "plt.xticks(rotation='vertical')\n",
    "plt.show()"
   ]
  },
  {
   "cell_type": "code",
   "execution_count": null,
   "metadata": {},
   "outputs": [],
   "source": []
  }
 ],
 "metadata": {
  "kernelspec": {
   "display_name": "Python 3",
   "language": "python",
   "name": "python3"
  },
  "language_info": {
   "codemirror_mode": {
    "name": "ipython",
    "version": 3
   },
   "file_extension": ".py",
   "mimetype": "text/x-python",
   "name": "python",
   "nbconvert_exporter": "python",
   "pygments_lexer": "ipython3",
   "version": "3.7.3"
  }
 },
 "nbformat": 4,
 "nbformat_minor": 2
}
