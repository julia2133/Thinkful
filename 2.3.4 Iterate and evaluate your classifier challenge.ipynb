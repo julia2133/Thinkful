{
 "cells": [
  {
   "cell_type": "markdown",
   "metadata": {},
   "source": [
    "It's time to revisit your classifier from the previous assignment. Using the evaluation techniques we've covered here, look at your classifier's performance in more detail. Then go back and iterate by engineering new features, removing poor features, or tuning parameters. Repeat this process until you have five different versions of your classifier. Once you've iterated, answer these questions to compare the performance of each:\n",
    "\n",
    "Do any of your classifiers seem to overfit?\n",
    "Which seem to perform the best? Why?\n",
    "Which features seemed to be most impactful to performance?\n",
    "Write up your iterations and answers to the above questions in a few pages. Submit a link below and go over it with your mentor to see if they have any other ideas on how you could improve your classifier's performance."
   ]
  },
  {
   "cell_type": "code",
   "execution_count": null,
   "metadata": {},
   "outputs": [],
   "source": [
    "import pandas as pd\n",
    "import numpy as np\n",
    "import matplotlib.pyplot as plt\n",
    "import seaborn as sns\n",
    "from sklearn.model_selection import train_test_split\n",
    "from sklearn.model_selection import cross_val_score\n",
    "from sklearn.naive_bayes import BernoulliNB\n",
    "from sklearn.metrics import confusion_matrix\n",
    "\n",
    "reviews = pd.read_csv('amazon_cells_labelled.txt', delimiter='\\t', header=None)\n",
    "reviews.columns = ['review', 'sentiment']"
   ]
  },
  {
   "cell_type": "code",
   "execution_count": 2,
   "metadata": {},
   "outputs": [],
   "source": [
    "keywords = ['good', 'great', 'excellent', 'awesome','love', 'loves', 'nice','recommend', 'must have','nice', 'beautiful', 'super', 'best']\n",
    "\n"
   ]
  },
  {
   "cell_type": "code",
   "execution_count": 3,
   "metadata": {},
   "outputs": [],
   "source": [
    "data = reviews[keywords]\n",
    "target = reviews['sentiment']\n",
    "X_train, X_test, y_train, y_test = train_test_split(data, target, test_size=0.2, random_state=20)"
   ]
  },
  {
   "cell_type": "code",
   "execution_count": 7,
   "metadata": {},
   "outputs": [
    {
     "data": {
      "text/plain": [
       "array([0.64, 0.63, 0.64, 0.59, 0.61, 0.6 , 0.61, 0.61, 0.64, 0.55])"
      ]
     },
     "execution_count": 7,
     "metadata": {},
     "output_type": "execute_result"
    }
   ],
   "source": [
    "bnb = BernoulliNB()\n"
   ]
  },
  {
   "cell_type": "code",
   "execution_count": 72,
   "metadata": {},
   "outputs": [
    {
     "name": "stdout",
     "output_type": "stream",
     "text": [
      "['excellent', 'awesome', 'love', 'loves', 'nice', 'recommend', 'must have', 'nice', 'beautiful', 'super', 'best']\n",
      "['love', 'loves', 'nice', 'recommend', 'must have', 'nice', 'beautiful', 'super', 'best']\n",
      "['nice', 'recommend', 'must have', 'nice', 'beautiful', 'super', 'best']\n",
      "['must have', 'nice', 'beautiful', 'super', 'best']\n",
      "['beautiful', 'super', 'best']\n"
     ]
    }
   ],
   "source": [
    "## Loop removing 3 keywords in 5 iterations to measure importance of each word\n",
    "\n",
    "keywords = ['good', 'great', 'excellent', 'awesome','love', 'loves', 'nice','recommend', 'must have','nice', 'beautiful', 'super', 'best']\n",
    "\n",
    "for key in keywords:\n",
    "    # Note that we add spaces around the key so that we're getting the word,\n",
    "    # not just pattern matching.\n",
    "    reviews[str(key)] = reviews.review.str.contains(\n",
    "        ' ' + str(key) + ' ',\n",
    "        case=False\n",
    "    )\n",
    "\n",
    "cv=[]\n",
    "cv_mean=[]\n",
    "cv_std=[]\n",
    "conf=[]\n",
    "correct=[]\n",
    "wrong=[]\n",
    "\n",
    "for i in range(5):\n",
    "    \n",
    "    del reviews[keywords[0]] \n",
    "    del reviews[keywords[1]]\n",
    "    del reviews[keywords[2]]\n",
    "    \n",
    "    del keywords[0:2]\n",
    "    print(keywords)\n",
    "    \n",
    "    for key in keywords:\n",
    "        # Note that we add spaces around the key so that we're getting the word,\n",
    "        # not just pattern matching.\n",
    "        reviews[str(key)] = reviews.review.str.contains(\n",
    "            ' ' + str(key) + ' ',\n",
    "            case=False\n",
    "        )\n",
    "\n",
    "    data = reviews[keywords]\n",
    "    target = reviews['sentiment']\n",
    "    \n",
    "    bnb.fit(data, target)\n",
    "    y_pred = bnb.predict(data)\n",
    "    cv.append(cross_val_score(bnb, data, target, cv=10))\n",
    "    cv_mean.append(cv[i].mean())\n",
    "    cv_std.append(cv[i].std())\n",
    "    conf.append(confusion_matrix(target, y_pred))\n",
    "    \n",
    "    correct.append((target == y_pred).sum())\n",
    "    wrong.append((target != y_pred).sum())\n",
    "    "
   ]
  },
  {
   "cell_type": "code",
   "execution_count": 58,
   "metadata": {},
   "outputs": [
    {
     "data": {
      "text/plain": [
       "[array([0.61, 0.57, 0.57, 0.55, 0.56, 0.54, 0.55, 0.59, 0.57, 0.53]),\n",
       " array([0.59, 0.57, 0.57, 0.54, 0.55, 0.53, 0.54, 0.58, 0.56, 0.53]),\n",
       " array([0.56, 0.55, 0.54, 0.53, 0.54, 0.51, 0.52, 0.57, 0.54, 0.52]),\n",
       " array([0.54, 0.55, 0.53, 0.53, 0.52, 0.51, 0.51, 0.55, 0.52, 0.51]),\n",
       " array([0.52, 0.51, 0.52, 0.51, 0.52, 0.5 , 0.5 , 0.54, 0.52, 0.51])]"
      ]
     },
     "execution_count": 58,
     "metadata": {},
     "output_type": "execute_result"
    }
   ],
   "source": [
    "cv"
   ]
  },
  {
   "cell_type": "code",
   "execution_count": 51,
   "metadata": {},
   "outputs": [
    {
     "data": {
      "text/plain": [
       "[0.5640000000000001, 0.5559999999999999, 0.538, 0.5269999999999999, 0.515]"
      ]
     },
     "execution_count": 51,
     "metadata": {},
     "output_type": "execute_result"
    }
   ],
   "source": [
    "cv_mean"
   ]
  },
  {
   "cell_type": "code",
   "execution_count": 52,
   "metadata": {},
   "outputs": [
    {
     "data": {
      "text/plain": [
       "[0.022449944320643626,\n",
       " 0.02009975124224175,\n",
       " 0.017776388834631174,\n",
       " 0.014866068747318517,\n",
       " 0.011180339887498959]"
      ]
     },
     "execution_count": 52,
     "metadata": {},
     "output_type": "execute_result"
    }
   ],
   "source": [
    "cv_std"
   ]
  },
  {
   "cell_type": "code",
   "execution_count": 73,
   "metadata": {},
   "outputs": [],
   "source": [
    "keywords = ['good', 'great', 'excellent', 'awesome','love', 'loves', 'nice','recommend', 'must have','nice']\n",
    "\n",
    "for key in keywords:\n",
    "    # Note that we add spaces around the key so that we're getting the word,\n",
    "    # not just pattern matching.\n",
    "    reviews[str(key)] = reviews.review.str.contains(\n",
    "        ' ' + str(key) + ' ',\n",
    "        case=False\n",
    "    )\n",
    "\n",
    "data = reviews[keywords]\n",
    "target = reviews['sentiment']\n",
    "bnb.fit(data, target)\n",
    "y_pred = bnb.predict(data)\n",
    "temp = cross_val_score(bnb, data, target, cv=10)\n",
    "cv.append(temp)\n",
    "cv_mean.append(cv[i].mean())\n",
    "cv_std.append(cv[i].std())\n",
    "conf.append(confusion_matrix(target, y_pred))\n",
    "correct.append((target == y_pred).sum())\n",
    "wrong.append((target != y_pred).sum())"
   ]
  },
  {
   "cell_type": "code",
   "execution_count": 77,
   "metadata": {},
   "outputs": [],
   "source": [
    "keywords = ['good', 'great', 'excellent']\n",
    "\n",
    "for key in keywords:\n",
    "    # Note that we add spaces around the key so that we're getting the word,\n",
    "    # not just pattern matching.\n",
    "    reviews[str(key)] = reviews.review.str.contains(\n",
    "        ' ' + str(key) + ' ',\n",
    "        case=False\n",
    "    )\n",
    "\n",
    "data = reviews[keywords]\n",
    "target = reviews['sentiment']\n",
    "bnb.fit(data, target)\n",
    "y_pred = bnb.predict(data)\n",
    "temp = cross_val_score(bnb, data, target, cv=10)\n",
    "cv.append(temp)\n",
    "cv_mean.append(cv[i].mean())\n",
    "cv_std.append(cv[i].std())\n",
    "conf.append(confusion_matrix(target, y_pred))\n",
    "correct.append((target == y_pred).sum())\n",
    "wrong.append((target != y_pred).sum())"
   ]
  },
  {
   "cell_type": "code",
   "execution_count": 80,
   "metadata": {},
   "outputs": [],
   "source": [
    "keywords = ['good', 'great', 'excellent', 'awesome','love']\n",
    "\n",
    "for key in keywords:\n",
    "    # Note that we add spaces around the key so that we're getting the word,\n",
    "    # not just pattern matching.\n",
    "    reviews[str(key)] = reviews.review.str.contains(\n",
    "        ' ' + str(key) + ' ',\n",
    "        case=False\n",
    "    )\n",
    "\n",
    "data = reviews[keywords]\n",
    "target = reviews['sentiment']\n",
    "bnb.fit(data, target)\n",
    "y_pred = bnb.predict(data)\n",
    "temp = cross_val_score(bnb, data, target, cv=10)\n",
    "cv.append(temp)\n",
    "cv_mean.append(cv[i].mean())\n",
    "cv_std.append(cv[i].std())\n",
    "conf.append(confusion_matrix(target, y_pred))\n",
    "correct.append((target == y_pred).sum())\n",
    "wrong.append((target != y_pred).sum())"
   ]
  },
  {
   "cell_type": "code",
   "execution_count": 82,
   "metadata": {},
   "outputs": [],
   "source": [
    "keywords = ['good', 'excellent', 'love']\n",
    "\n",
    "for key in keywords:\n",
    "    # Note that we add spaces around the key so that we're getting the word,\n",
    "    # not just pattern matching.\n",
    "    reviews[str(key)] = reviews.review.str.contains(\n",
    "        ' ' + str(key) + ' ',\n",
    "        case=False\n",
    "    )\n",
    "\n",
    "data = reviews[keywords]\n",
    "target = reviews['sentiment']\n",
    "bnb.fit(data, target)\n",
    "y_pred = bnb.predict(data)\n",
    "temp = cross_val_score(bnb, data, target, cv=10)\n",
    "cv.append(temp)\n",
    "cv_mean.append(cv[i].mean())\n",
    "cv_std.append(cv[i].std())\n",
    "conf.append(confusion_matrix(target, y_pred))\n",
    "correct.append((target == y_pred).sum())\n",
    "wrong.append((target != y_pred).sum())"
   ]
  },
  {
   "cell_type": "code",
   "execution_count": 84,
   "metadata": {},
   "outputs": [],
   "source": [
    "keywords = ['good', 'great', 'excellent', 'love']\n",
    "\n",
    "for key in keywords:\n",
    "    # Note that we add spaces around the key so that we're getting the word,\n",
    "    # not just pattern matching.\n",
    "    reviews[str(key)] = reviews.review.str.contains(\n",
    "        ' ' + str(key) + ' ',\n",
    "        case=False\n",
    "    )\n",
    "\n",
    "data = reviews[keywords]\n",
    "target = reviews['sentiment']\n",
    "bnb.fit(data, target)\n",
    "y_pred = bnb.predict(data)\n",
    "temp = cross_val_score(bnb, data, target, cv=10)\n",
    "cv.append(temp)\n",
    "cv_mean.append(cv[i].mean())\n",
    "cv_std.append(cv[i].std())\n",
    "conf.append(confusion_matrix(target, y_pred))\n",
    "correct.append((target == y_pred).sum())\n",
    "wrong.append((target != y_pred).sum())"
   ]
  },
  {
   "cell_type": "code",
   "execution_count": 85,
   "metadata": {},
   "outputs": [
    {
     "data": {
      "text/plain": [
       "[567, 557, 539, 528, 516, 600, 564, 580, 547, 578]"
      ]
     },
     "execution_count": 85,
     "metadata": {},
     "output_type": "execute_result"
    }
   ],
   "source": [
    "correct"
   ]
  },
  {
   "cell_type": "code",
   "execution_count": 86,
   "metadata": {},
   "outputs": [
    {
     "data": {
      "text/plain": [
       "[433, 443, 461, 472, 484, 400, 436, 420, 453, 422]"
      ]
     },
     "execution_count": 86,
     "metadata": {},
     "output_type": "execute_result"
    }
   ],
   "source": [
    "wrong"
   ]
  },
  {
   "cell_type": "markdown",
   "metadata": {},
   "source": [
    "Do any of your classifiers seem to overfit? \n",
    "None of the classifiers seem to overfit\n",
    "\n",
    "Which seem to perform the best? Why? \n",
    "Removing 'beautiful', 'super', and 'best' seemed to have the biggest impact on the number of correctly classified reviews\n",
    "\n",
    "Which features seemed to be most impactful to performance? \n",
    "'awesome', 'good', 'great', and love "
   ]
  },
  {
   "cell_type": "code",
   "execution_count": null,
   "metadata": {},
   "outputs": [],
   "source": []
  }
 ],
 "metadata": {
  "kernelspec": {
   "display_name": "Python 3",
   "language": "python",
   "name": "python3"
  },
  "language_info": {
   "codemirror_mode": {
    "name": "ipython",
    "version": 3
   },
   "file_extension": ".py",
   "mimetype": "text/x-python",
   "name": "python",
   "nbconvert_exporter": "python",
   "pygments_lexer": "ipython3",
   "version": "3.7.3"
  }
 },
 "nbformat": 4,
 "nbformat_minor": 2
}
