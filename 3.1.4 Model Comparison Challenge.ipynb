{
 "cells": [
  {
   "cell_type": "code",
   "execution_count": 1,
   "metadata": {},
   "outputs": [],
   "source": [
    "# Import libraries\n",
    "import numpy as np\n",
    "import matplotlib.pyplot as plt\n",
    "import pandas as pd\n",
    "import timeit\n",
    "\n",
    "\n",
    "#Name of file\n",
    "csvfilename = 'creditcard.csv'"
   ]
  },
  {
   "cell_type": "code",
   "execution_count": 41,
   "metadata": {},
   "outputs": [],
   "source": [
    "# Import the dataset\n",
    "#df = pd.read_csv(csvfilename)\n",
    "Data =  df.iloc[:, 1:20].values\n",
    "target = df['Class']\n",
    "\n",
    "from sklearn.model_selection import train_test_split, cross_val_score\n",
    "X_train, X_test, y_train, y_test = train_test_split(Data, target, test_size = 0.2, random_state = 0)"
   ]
  },
  {
   "cell_type": "code",
   "execution_count": 44,
   "metadata": {},
   "outputs": [
    {
     "data": {
      "text/plain": [
       "-0.0006219000001692621"
      ]
     },
     "execution_count": 44,
     "metadata": {},
     "output_type": "execute_result"
    }
   ],
   "source": [
    "# KNN\n",
    "from sklearn.neighbors import KNeighborsClassifier\n",
    "start = timeit.timeit()\n",
    "\n",
    "KNN = KNeighborsClassifier(n_neighbors=5)\n",
    "KNN.fit(X_train, y_train)\n",
    "y_pred_KNN = KNN.predict(X_test)\n",
    "cv_scores_KNN = cross_val_score(KNN, Data, target, cv=5)\n",
    "\n",
    "end = timeit.timeit()\n",
    "time_KNN = end - start\n",
    "time_KNN"
   ]
  },
  {
   "cell_type": "code",
   "execution_count": 43,
   "metadata": {},
   "outputs": [
    {
     "data": {
      "text/plain": [
       "0.00017079999997804407"
      ]
     },
     "execution_count": 43,
     "metadata": {},
     "output_type": "execute_result"
    }
   ],
   "source": [
    "from sklearn.linear_model import LinearRegression\n",
    "start = timeit.timeit()\n",
    "LR = LinearRegression()\n",
    "LR.fit(X_train, y_train)\n",
    "cv_scores_OLS = cross_val_score(LR, Data, target, cv=5)\n",
    "end = timeit.timeit()\n",
    "time_OLS = end - start\n",
    "time_OLS"
   ]
  },
  {
   "cell_type": "code",
   "execution_count": null,
   "metadata": {},
   "outputs": [],
   "source": [
    "print(\"KNN Accuracy: %0.2f (+/- %0.4f)\" % (cv_scores_KNN.mean(), cv_scores_KNN.std() * 2))\n",
    "print(\"Linear Regression Accuracy: %0.2f (+/- %0.4f)\" % (cv_scores_OLS.mean(), cv_scores_OLS.std() * 2))"
   ]
  },
  {
   "cell_type": "code",
   "execution_count": null,
   "metadata": {},
   "outputs": [],
   "source": [
    "print(\"KNN Time to Run: %0.6f \" % (time_KNN))\n",
    "print(\"Linear Regression Time to Run: %0.6f \" % (time_OLS))"
   ]
  },
  {
   "cell_type": "code",
   "execution_count": null,
   "metadata": {},
   "outputs": [],
   "source": []
  }
 ],
 "metadata": {
  "kernelspec": {
   "display_name": "Python 3",
   "language": "python",
   "name": "python3"
  },
  "language_info": {
   "codemirror_mode": {
    "name": "ipython",
    "version": 3
   },
   "file_extension": ".py",
   "mimetype": "text/x-python",
   "name": "python",
   "nbconvert_exporter": "python",
   "pygments_lexer": "ipython3",
   "version": "3.7.3"
  }
 },
 "nbformat": 4,
 "nbformat_minor": 2
}
